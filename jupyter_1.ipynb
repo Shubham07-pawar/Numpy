{
 "cells": [
  {
   "cell_type": "markdown",
   "id": "bf1f1f01",
   "metadata": {},
   "source": [
    "# creating array\n"
   ]
  },
  {
   "cell_type": "code",
   "execution_count": 1,
   "id": "64d5d08c",
   "metadata": {},
   "outputs": [
    {
     "data": {
      "text/plain": [
       "array([1, 2, 3])"
      ]
     },
     "execution_count": 1,
     "metadata": {},
     "output_type": "execute_result"
    }
   ],
   "source": [
    "import numpy as np\n",
    "np.array([1,2,3])\n"
   ]
  },
  {
   "cell_type": "markdown",
   "id": "71c4b91a",
   "metadata": {},
   "source": [
    "# 1-dimensional array"
   ]
  },
  {
   "cell_type": "code",
   "execution_count": 2,
   "id": "25b579ba",
   "metadata": {},
   "outputs": [
    {
     "data": {
      "text/plain": [
       "array([1, 2, 3, 4, 5, 6])"
      ]
     },
     "execution_count": 2,
     "metadata": {},
     "output_type": "execute_result"
    }
   ],
   "source": [
    "s= np.array([1,2,3,4,5,6])\n",
    "s"
   ]
  },
  {
   "cell_type": "code",
   "execution_count": 3,
   "id": "f84175c7",
   "metadata": {},
   "outputs": [
    {
     "data": {
      "text/plain": [
       "6"
      ]
     },
     "execution_count": 3,
     "metadata": {},
     "output_type": "execute_result"
    }
   ],
   "source": [
    "#find size of array\n",
    "s.size"
   ]
  },
  {
   "cell_type": "code",
   "execution_count": 4,
   "id": "39f4dead",
   "metadata": {},
   "outputs": [
    {
     "data": {
      "text/plain": [
       "1"
      ]
     },
     "execution_count": 4,
     "metadata": {},
     "output_type": "execute_result"
    }
   ],
   "source": [
    "# find the dimension of array\n",
    "s.ndim"
   ]
  },
  {
   "cell_type": "code",
   "execution_count": 5,
   "id": "d6d3c2ed",
   "metadata": {},
   "outputs": [
    {
     "data": {
      "text/plain": [
       "(6,)"
      ]
     },
     "execution_count": 5,
     "metadata": {},
     "output_type": "execute_result"
    }
   ],
   "source": [
    "# find the shape of array \n",
    "s.shape"
   ]
  },
  {
   "cell_type": "code",
   "execution_count": 6,
   "id": "b083dd23",
   "metadata": {},
   "outputs": [
    {
     "data": {
      "text/plain": [
       "dtype('int32')"
      ]
     },
     "execution_count": 6,
     "metadata": {},
     "output_type": "execute_result"
    }
   ],
   "source": [
    "# find the data type of array\n",
    "s.dtype"
   ]
  },
  {
   "cell_type": "code",
   "execution_count": 7,
   "id": "53feddb7",
   "metadata": {},
   "outputs": [
    {
     "data": {
      "text/plain": [
       "numpy.ndarray"
      ]
     },
     "execution_count": 7,
     "metadata": {},
     "output_type": "execute_result"
    }
   ],
   "source": [
    "# find the type of array\n",
    "type(s)"
   ]
  },
  {
   "cell_type": "markdown",
   "id": "e385a725",
   "metadata": {},
   "source": [
    "# Create 2-Dimension array"
   ]
  },
  {
   "cell_type": "code",
   "execution_count": 8,
   "id": "c4fabf00",
   "metadata": {},
   "outputs": [
    {
     "data": {
      "text/plain": [
       "array([[1, 2],\n",
       "       [4, 5]])"
      ]
     },
     "execution_count": 8,
     "metadata": {},
     "output_type": "execute_result"
    }
   ],
   "source": [
    "s2 = np.array([[1,2],[4,5]])\n",
    "s2\n"
   ]
  },
  {
   "cell_type": "code",
   "execution_count": 9,
   "id": "a20a04fa",
   "metadata": {},
   "outputs": [
    {
     "data": {
      "text/plain": [
       "2"
      ]
     },
     "execution_count": 9,
     "metadata": {},
     "output_type": "execute_result"
    }
   ],
   "source": [
    "# find the dimension of array\n",
    "s2.ndim"
   ]
  },
  {
   "cell_type": "code",
   "execution_count": 10,
   "id": "aae41166",
   "metadata": {},
   "outputs": [
    {
     "data": {
      "text/plain": [
       "(2, 2)"
      ]
     },
     "execution_count": 10,
     "metadata": {},
     "output_type": "execute_result"
    }
   ],
   "source": [
    "# find the shape of array\n",
    "s2.shape"
   ]
  },
  {
   "cell_type": "code",
   "execution_count": 11,
   "id": "6543132b",
   "metadata": {},
   "outputs": [
    {
     "data": {
      "text/plain": [
       "dtype('int32')"
      ]
     },
     "execution_count": 11,
     "metadata": {},
     "output_type": "execute_result"
    }
   ],
   "source": [
    "# find the data type of array\n",
    "s2.dtype"
   ]
  },
  {
   "cell_type": "code",
   "execution_count": 12,
   "id": "74810bb6",
   "metadata": {},
   "outputs": [
    {
     "data": {
      "text/plain": [
       "numpy.ndarray"
      ]
     },
     "execution_count": 12,
     "metadata": {},
     "output_type": "execute_result"
    }
   ],
   "source": [
    "#find the type of array\n",
    "type(s2)"
   ]
  },
  {
   "cell_type": "markdown",
   "id": "cfff871e",
   "metadata": {},
   "source": [
    "# create 3-Dimension Array"
   ]
  },
  {
   "cell_type": "code",
   "execution_count": 13,
   "id": "afcd8642",
   "metadata": {},
   "outputs": [
    {
     "data": {
      "text/plain": [
       "array([[[1, 2, 3],\n",
       "        [4, 5, 6],\n",
       "        [7, 8, 9]]])"
      ]
     },
     "execution_count": 13,
     "metadata": {},
     "output_type": "execute_result"
    }
   ],
   "source": [
    "s3 = np.array([[[1,2,3,],[4,5,6],[7,8,9]]])\n",
    "\n",
    "s3  \n"
   ]
  },
  {
   "cell_type": "code",
   "execution_count": 14,
   "id": "b710db3b",
   "metadata": {},
   "outputs": [
    {
     "data": {
      "text/plain": [
       "array([[[1, 2, 3],\n",
       "        [4, 5, 6],\n",
       "        [7, 8, 9]],\n",
       "\n",
       "       [[9, 8, 7],\n",
       "        [4, 5, 6],\n",
       "        [3, 2, 1]]])"
      ]
     },
     "execution_count": 14,
     "metadata": {},
     "output_type": "execute_result"
    }
   ],
   "source": [
    "s4 = np.array([[[1,2,3],[4,5,6,],[7,8,9]],[[9,8,7],[4,5,6],[3,2,1]]])\n",
    "s4"
   ]
  },
  {
   "cell_type": "code",
   "execution_count": 15,
   "id": "9df4a7dc",
   "metadata": {},
   "outputs": [
    {
     "data": {
      "text/plain": [
       "(2, 3, 3)"
      ]
     },
     "execution_count": 15,
     "metadata": {},
     "output_type": "execute_result"
    }
   ],
   "source": [
    "# find the shape of s4 array\n",
    "s4.shape"
   ]
  },
  {
   "cell_type": "code",
   "execution_count": 16,
   "id": "c3add384",
   "metadata": {},
   "outputs": [
    {
     "data": {
      "text/plain": [
       "dtype('int32')"
      ]
     },
     "execution_count": 16,
     "metadata": {},
     "output_type": "execute_result"
    }
   ],
   "source": [
    "#find s4 data type  \n",
    "s4.dtype "
   ]
  },
  {
   "cell_type": "code",
   "execution_count": 17,
   "id": "6b92c5d3",
   "metadata": {},
   "outputs": [
    {
     "data": {
      "text/plain": [
       "(1, 3, 3)"
      ]
     },
     "execution_count": 17,
     "metadata": {},
     "output_type": "execute_result"
    }
   ],
   "source": [
    "# find dimension of array \n",
    "s3.shape"
   ]
  },
  {
   "cell_type": "code",
   "execution_count": 18,
   "id": "333af62e",
   "metadata": {},
   "outputs": [
    {
     "data": {
      "text/plain": [
       "9"
      ]
     },
     "execution_count": 18,
     "metadata": {},
     "output_type": "execute_result"
    }
   ],
   "source": [
    "# find the size of array\n",
    "s3.size"
   ]
  },
  {
   "cell_type": "code",
   "execution_count": 19,
   "id": "464a8755",
   "metadata": {},
   "outputs": [
    {
     "data": {
      "text/plain": [
       "dtype('int32')"
      ]
     },
     "execution_count": 19,
     "metadata": {},
     "output_type": "execute_result"
    }
   ],
   "source": [
    "# find the data type of array\n",
    "s3.dtype\n"
   ]
  },
  {
   "cell_type": "code",
   "execution_count": 20,
   "id": "e17639fa",
   "metadata": {},
   "outputs": [
    {
     "data": {
      "text/plain": [
       "18"
      ]
     },
     "execution_count": 20,
     "metadata": {},
     "output_type": "execute_result"
    }
   ],
   "source": [
    "#find the size of s4\n",
    "s4.size"
   ]
  },
  {
   "cell_type": "code",
   "execution_count": 21,
   "id": "7f09e09f",
   "metadata": {},
   "outputs": [
    {
     "data": {
      "text/plain": [
       "numpy.ndarray"
      ]
     },
     "execution_count": 21,
     "metadata": {},
     "output_type": "execute_result"
    }
   ],
   "source": [
    "#find type of array\n",
    "type(s3)"
   ]
  },
  {
   "cell_type": "markdown",
   "id": "5acd8200",
   "metadata": {},
   "source": [
    "# How to convert array to list"
   ]
  },
  {
   "cell_type": "code",
   "execution_count": 22,
   "id": "3256c426",
   "metadata": {},
   "outputs": [
    {
     "data": {
      "text/plain": [
       "array([[[1, 2, 3],\n",
       "        [4, 5, 6],\n",
       "        [7, 8, 9]]])"
      ]
     },
     "execution_count": 22,
     "metadata": {},
     "output_type": "execute_result"
    }
   ],
   "source": [
    "s3 = np.array([[[1,2,3,],[4,5,6],[7,8,9]]])\n",
    "s3"
   ]
  },
  {
   "cell_type": "code",
   "execution_count": 23,
   "id": "16ea7bc2",
   "metadata": {},
   "outputs": [
    {
     "data": {
      "text/plain": [
       "[[[1, 2, 3], [4, 5, 6], [7, 8, 9]]]"
      ]
     },
     "execution_count": 23,
     "metadata": {},
     "output_type": "execute_result"
    }
   ],
   "source": [
    "s3.tolist()\n"
   ]
  },
  {
   "cell_type": "markdown",
   "id": "78148812",
   "metadata": {},
   "source": [
    "# creating array using default function"
   ]
  },
  {
   "cell_type": "code",
   "execution_count": 24,
   "id": "43328b9e",
   "metadata": {},
   "outputs": [
    {
     "data": {
      "text/plain": [
       "array([0., 0., 0., 0., 0., 0.])"
      ]
     },
     "execution_count": 24,
     "metadata": {},
     "output_type": "execute_result"
    }
   ],
   "source": [
    "# by default is float all zeros values\n",
    "# np.zeros 1-D array\n",
    "np.zeros(6)"
   ]
  },
  {
   "cell_type": "code",
   "execution_count": 25,
   "id": "e5e95909",
   "metadata": {},
   "outputs": [
    {
     "data": {
      "text/plain": [
       "array([[0., 0., 0.],\n",
       "       [0., 0., 0.],\n",
       "       [0., 0., 0.]])"
      ]
     },
     "execution_count": 25,
     "metadata": {},
     "output_type": "execute_result"
    }
   ],
   "source": [
    "# np.zeros 2D array\n",
    "np.zeros((3,3))"
   ]
  },
  {
   "cell_type": "code",
   "execution_count": 26,
   "id": "3506cbee",
   "metadata": {},
   "outputs": [
    {
     "data": {
      "text/plain": [
       "array([[[0., 0.],\n",
       "        [0., 0.]],\n",
       "\n",
       "       [[0., 0.],\n",
       "        [0., 0.]],\n",
       "\n",
       "       [[0., 0.],\n",
       "        [0., 0.]]])"
      ]
     },
     "execution_count": 26,
     "metadata": {},
     "output_type": "execute_result"
    }
   ],
   "source": [
    "# np.zeros 3D array\n",
    "np.zeros((3,2,2))"
   ]
  },
  {
   "cell_type": "markdown",
   "id": "511f9d50",
   "metadata": {},
   "source": [
    "# Create array with all one's"
   ]
  },
  {
   "cell_type": "code",
   "execution_count": 27,
   "id": "9a50c349",
   "metadata": {},
   "outputs": [
    {
     "data": {
      "text/plain": [
       "array([1., 1., 1., 1., 1.])"
      ]
     },
     "execution_count": 27,
     "metadata": {},
     "output_type": "execute_result"
    }
   ],
   "source": [
    "# np.ones 1-D array / its also by default float values\n",
    "np.ones(5)"
   ]
  },
  {
   "cell_type": "code",
   "execution_count": 28,
   "id": "7eb4ddcc",
   "metadata": {},
   "outputs": [
    {
     "data": {
      "text/plain": [
       "array([[1., 1.],\n",
       "       [1., 1.]])"
      ]
     },
     "execution_count": 28,
     "metadata": {},
     "output_type": "execute_result"
    }
   ],
   "source": [
    "#np.ones 2-D array\n",
    "np.ones((2,2)) # 2 rows and 2 columns"
   ]
  },
  {
   "cell_type": "code",
   "execution_count": 29,
   "id": "cff52268",
   "metadata": {},
   "outputs": [
    {
     "data": {
      "text/plain": [
       "array([[[1., 1., 1., 1.],\n",
       "        [1., 1., 1., 1.],\n",
       "        [1., 1., 1., 1.],\n",
       "        [1., 1., 1., 1.]],\n",
       "\n",
       "       [[1., 1., 1., 1.],\n",
       "        [1., 1., 1., 1.],\n",
       "        [1., 1., 1., 1.],\n",
       "        [1., 1., 1., 1.]]])"
      ]
     },
     "execution_count": 29,
     "metadata": {},
     "output_type": "execute_result"
    }
   ],
   "source": [
    "# np.ones 3-D array\n",
    "np.ones((2,4,4))"
   ]
  },
  {
   "cell_type": "markdown",
   "id": "ac15d790",
   "metadata": {},
   "source": [
    "# Identitiy matrix or diagonal are 1"
   ]
  },
  {
   "cell_type": "code",
   "execution_count": 30,
   "id": "e7b369bd",
   "metadata": {},
   "outputs": [
    {
     "data": {
      "text/plain": [
       "array([[1., 0., 0., 0., 0., 0.],\n",
       "       [0., 1., 0., 0., 0., 0.],\n",
       "       [0., 0., 1., 0., 0., 0.],\n",
       "       [0., 0., 0., 1., 0., 0.],\n",
       "       [0., 0., 0., 0., 1., 0.],\n",
       "       [0., 0., 0., 0., 0., 1.]])"
      ]
     },
     "execution_count": 30,
     "metadata": {},
     "output_type": "execute_result"
    }
   ],
   "source": [
    "#np.eye() 2-D array\n",
    "a1 = np.eye(6)\n",
    "a1"
   ]
  },
  {
   "cell_type": "markdown",
   "id": "1f789862",
   "metadata": {},
   "source": [
    "# arange() "
   ]
  },
  {
   "cell_type": "code",
   "execution_count": 31,
   "id": "5a55658f",
   "metadata": {},
   "outputs": [
    {
     "data": {
      "text/plain": [
       "array([1, 2, 3, 4, 5, 6, 7, 8, 9])"
      ]
     },
     "execution_count": 31,
     "metadata": {},
     "output_type": "execute_result"
    }
   ],
   "source": [
    " np.arange(1,10) # end exclusive"
   ]
  },
  {
   "cell_type": "code",
   "execution_count": 32,
   "id": "2c237573",
   "metadata": {},
   "outputs": [
    {
     "data": {
      "text/plain": [
       "array([ 1,  3,  5,  7,  9, 11, 13, 15, 17, 19, 21, 23, 25, 27, 29, 31, 33,\n",
       "       35, 37, 39, 41, 43, 45, 47, 49])"
      ]
     },
     "execution_count": 32,
     "metadata": {},
     "output_type": "execute_result"
    }
   ],
   "source": [
    "np.arange(1,50,2) # start, stop, step"
   ]
  },
  {
   "cell_type": "code",
   "execution_count": 33,
   "id": "8dc3171a",
   "metadata": {},
   "outputs": [
    {
     "data": {
      "text/plain": [
       "array([11, 10,  9,  8,  7,  6,  5,  4,  3,  2,  1])"
      ]
     },
     "execution_count": 33,
     "metadata": {},
     "output_type": "execute_result"
    }
   ],
   "source": [
    "# reverse the arange\n",
    "np.arange(11,0,-1)"
   ]
  },
  {
   "cell_type": "code",
   "execution_count": null,
   "id": "952abf15",
   "metadata": {},
   "outputs": [],
   "source": []
  },
  {
   "cell_type": "code",
   "execution_count": null,
   "id": "937ba869",
   "metadata": {},
   "outputs": [],
   "source": []
  },
  {
   "cell_type": "code",
   "execution_count": null,
   "id": "1d3606d4",
   "metadata": {},
   "outputs": [],
   "source": []
  },
  {
   "cell_type": "code",
   "execution_count": null,
   "id": "8f13f764",
   "metadata": {},
   "outputs": [],
   "source": []
  },
  {
   "cell_type": "code",
   "execution_count": null,
   "id": "85c8bdf2",
   "metadata": {},
   "outputs": [],
   "source": []
  },
  {
   "cell_type": "code",
   "execution_count": null,
   "id": "44b47806",
   "metadata": {},
   "outputs": [],
   "source": []
  }
 ],
 "metadata": {
  "kernelspec": {
   "display_name": "Python 3 (ipykernel)",
   "language": "python",
   "name": "python3"
  },
  "language_info": {
   "codemirror_mode": {
    "name": "ipython",
    "version": 3
   },
   "file_extension": ".py",
   "mimetype": "text/x-python",
   "name": "python",
   "nbconvert_exporter": "python",
   "pygments_lexer": "ipython3",
   "version": "3.7.7"
  }
 },
 "nbformat": 4,
 "nbformat_minor": 5
}
