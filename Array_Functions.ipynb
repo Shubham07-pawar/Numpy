{
 "cells": [
  {
   "cell_type": "code",
   "execution_count": 1,
   "id": "8298b372",
   "metadata": {},
   "outputs": [],
   "source": [
    "import numpy as np"
   ]
  },
  {
   "cell_type": "markdown",
   "id": "bc4d7c00",
   "metadata": {},
   "source": [
    "# Indexing over array"
   ]
  },
  {
   "cell_type": "code",
   "execution_count": 2,
   "id": "f60417e7",
   "metadata": {},
   "outputs": [
    {
     "data": {
      "text/plain": [
       "array([[1, 2, 1, 7],\n",
       "       [4, 5, 6, 9],\n",
       "       [5, 7, 8, 1]])"
      ]
     },
     "execution_count": 2,
     "metadata": {},
     "output_type": "execute_result"
    }
   ],
   "source": [
    "a = np.array([[1, 2, 1, 7], [4, 5, 6, 9], [5, 7, 8, 1]])\n",
    "a"
   ]
  },
  {
   "cell_type": "code",
   "execution_count": 3,
   "id": "37babe36",
   "metadata": {},
   "outputs": [
    {
     "data": {
      "text/plain": [
       "array([1, 2, 1, 7])"
      ]
     },
     "execution_count": 3,
     "metadata": {},
     "output_type": "execute_result"
    }
   ],
   "source": [
    "# access the element using index\n",
    "# get 1st row\n",
    "a[0]"
   ]
  },
  {
   "cell_type": "code",
   "execution_count": 4,
   "id": "b0fd023e",
   "metadata": {},
   "outputs": [
    {
     "data": {
      "text/plain": [
       "array([5, 7, 8, 1])"
      ]
     },
     "execution_count": 4,
     "metadata": {},
     "output_type": "execute_result"
    }
   ],
   "source": [
    "# get 3 rd row\n",
    "a[2]"
   ]
  },
  {
   "cell_type": "code",
   "execution_count": 5,
   "id": "e0574b61",
   "metadata": {},
   "outputs": [
    {
     "data": {
      "text/plain": [
       "array([5, 7, 8, 1])"
      ]
     },
     "execution_count": 5,
     "metadata": {},
     "output_type": "execute_result"
    }
   ],
   "source": [
    "# i want to last row\n",
    "a[-1]"
   ]
  },
  {
   "cell_type": "code",
   "execution_count": 6,
   "id": "4ee7565b",
   "metadata": {},
   "outputs": [
    {
     "data": {
      "text/plain": [
       "2"
      ]
     },
     "execution_count": 6,
     "metadata": {},
     "output_type": "execute_result"
    }
   ],
   "source": [
    "# we can change the value of array using index\n",
    "a[0][1]"
   ]
  },
  {
   "cell_type": "code",
   "execution_count": 7,
   "id": "029894e2",
   "metadata": {},
   "outputs": [
    {
     "data": {
      "text/plain": [
       "array([[ 1, 10,  1,  7],\n",
       "       [ 4,  5,  6,  9],\n",
       "       [ 5,  7,  8,  1]])"
      ]
     },
     "execution_count": 7,
     "metadata": {},
     "output_type": "execute_result"
    }
   ],
   "source": [
    "# we pass the value through indxing it will inplace of array.\n",
    "a[0][1] = 10\n",
    "a"
   ]
  },
  {
   "cell_type": "code",
   "execution_count": 8,
   "id": "176ff6fa",
   "metadata": {},
   "outputs": [
    {
     "data": {
      "text/plain": [
       "array([[ 1, 10,  1,  7],\n",
       "       [14,  5,  6,  9],\n",
       "       [ 5,  7,  8,  1]])"
      ]
     },
     "execution_count": 8,
     "metadata": {},
     "output_type": "execute_result"
    }
   ],
   "source": [
    "# same as above \n",
    "a[1,0] = 14\n",
    "a"
   ]
  },
  {
   "cell_type": "code",
   "execution_count": 9,
   "id": "db8855fa",
   "metadata": {},
   "outputs": [
    {
     "data": {
      "text/plain": [
       "array([14,  5,  6,  9])"
      ]
     },
     "execution_count": 9,
     "metadata": {},
     "output_type": "execute_result"
    }
   ],
   "source": [
    "# by default access the row \n",
    "a[1]"
   ]
  },
  {
   "cell_type": "markdown",
   "id": "4defb595",
   "metadata": {},
   "source": [
    "# Slicing"
   ]
  },
  {
   "cell_type": "code",
   "execution_count": 10,
   "id": "405df390",
   "metadata": {},
   "outputs": [
    {
     "data": {
      "text/plain": [
       "array([[ 1, 10,  1,  7],\n",
       "       [14,  5,  6,  9],\n",
       "       [ 5,  7,  8,  1]])"
      ]
     },
     "execution_count": 10,
     "metadata": {},
     "output_type": "execute_result"
    }
   ],
   "source": [
    "#using indexing we can access one row at a time\n",
    "# but now i want to access multiple rows\n",
    "a[:]"
   ]
  },
  {
   "cell_type": "code",
   "execution_count": 11,
   "id": "027026d2",
   "metadata": {},
   "outputs": [
    {
     "data": {
      "text/plain": [
       "array([[14,  5,  6,  9],\n",
       "       [ 5,  7,  8,  1]])"
      ]
     },
     "execution_count": 11,
     "metadata": {},
     "output_type": "execute_result"
    }
   ],
   "source": [
    "# i want fetch last two rows\n",
    "a[1:]"
   ]
  },
  {
   "cell_type": "code",
   "execution_count": 12,
   "id": "221c68c8",
   "metadata": {},
   "outputs": [
    {
     "data": {
      "text/plain": [
       "array([[ 5,  7,  8,  1],\n",
       "       [14,  5,  6,  9],\n",
       "       [ 1, 10,  1,  7]])"
      ]
     },
     "execution_count": 12,
     "metadata": {},
     "output_type": "execute_result"
    }
   ],
   "source": [
    "# reverse the row\n",
    "a[::-1]"
   ]
  },
  {
   "cell_type": "markdown",
   "id": "8ea90957",
   "metadata": {},
   "source": [
    "# column access"
   ]
  },
  {
   "cell_type": "code",
   "execution_count": 13,
   "id": "32384e1e",
   "metadata": {},
   "outputs": [
    {
     "data": {
      "text/plain": [
       "array([[ 1, 10,  1,  7],\n",
       "       [14,  5,  6,  9],\n",
       "       [ 5,  7,  8,  1]])"
      ]
     },
     "execution_count": 13,
     "metadata": {},
     "output_type": "execute_result"
    }
   ],
   "source": [
    "# all row and columns\n",
    "a[:,:]"
   ]
  },
  {
   "cell_type": "code",
   "execution_count": 14,
   "id": "bc163693",
   "metadata": {},
   "outputs": [
    {
     "data": {
      "text/plain": [
       "array([10,  5,  7])"
      ]
     },
     "execution_count": 14,
     "metadata": {},
     "output_type": "execute_result"
    }
   ],
   "source": [
    "# i want to access the column\n",
    "# it will get the 2 column presnt in 1st index\n",
    "a[:,1]"
   ]
  },
  {
   "cell_type": "code",
   "execution_count": 15,
   "id": "a3d814b3",
   "metadata": {},
   "outputs": [
    {
     "data": {
      "text/plain": [
       "array([[10,  1,  7],\n",
       "       [ 5,  6,  9],\n",
       "       [ 7,  8,  1]])"
      ]
     },
     "execution_count": 15,
     "metadata": {},
     "output_type": "execute_result"
    }
   ],
   "source": [
    "# fetch multiple columns\n",
    "a[:,1:]"
   ]
  },
  {
   "cell_type": "code",
   "execution_count": 16,
   "id": "178c6563",
   "metadata": {},
   "outputs": [
    {
     "data": {
      "text/plain": [
       "array([[10,  7,  1],\n",
       "       [ 5,  9, 14],\n",
       "       [ 7,  1,  5]])"
      ]
     },
     "execution_count": 16,
     "metadata": {},
     "output_type": "execute_result"
    }
   ],
   "source": [
    "# i want to fetch selected columns\n",
    "# we put the sequnce of columns index that sequnce it will follow.\n",
    "a[:, [1, 3, 0]]"
   ]
  },
  {
   "cell_type": "code",
   "execution_count": 17,
   "id": "3a544b8a",
   "metadata": {},
   "outputs": [
    {
     "data": {
      "text/plain": [
       "array([[ 7,  1, 10,  1],\n",
       "       [ 9,  6,  5, 14],\n",
       "       [ 1,  8,  7,  5]])"
      ]
     },
     "execution_count": 17,
     "metadata": {},
     "output_type": "execute_result"
    }
   ],
   "source": [
    "# revrese the columns\n",
    "a[:,::-1]"
   ]
  },
  {
   "cell_type": "code",
   "execution_count": 18,
   "id": "8dda61c9",
   "metadata": {},
   "outputs": [
    {
     "data": {
      "text/plain": [
       "9"
      ]
     },
     "execution_count": 18,
     "metadata": {},
     "output_type": "execute_result"
    }
   ],
   "source": [
    "# with the salcing we can access rows and columns value\n",
    "a[:,3][1]"
   ]
  },
  {
   "cell_type": "code",
   "execution_count": 19,
   "id": "bfad2f74",
   "metadata": {},
   "outputs": [
    {
     "data": {
      "text/plain": [
       "5"
      ]
     },
     "execution_count": 19,
     "metadata": {},
     "output_type": "execute_result"
    }
   ],
   "source": [
    "a[:, 1][1]"
   ]
  },
  {
   "cell_type": "markdown",
   "id": "36dfaeb4",
   "metadata": {},
   "source": [
    "# Assignments"
   ]
  },
  {
   "cell_type": "markdown",
   "id": "7643050c",
   "metadata": {},
   "source": [
    "#  Access the corner elements"
   ]
  },
  {
   "cell_type": "code",
   "execution_count": 20,
   "id": "042f0375",
   "metadata": {},
   "outputs": [
    {
     "data": {
      "text/plain": [
       "array([[ 1, 10,  1,  7],\n",
       "       [14,  5,  6,  9],\n",
       "       [ 5,  7,  8,  1]])"
      ]
     },
     "execution_count": 20,
     "metadata": {},
     "output_type": "execute_result"
    }
   ],
   "source": [
    "a"
   ]
  },
  {
   "cell_type": "code",
   "execution_count": 21,
   "id": "0e1f9ba0",
   "metadata": {},
   "outputs": [
    {
     "data": {
      "text/plain": [
       "array([[1, 7],\n",
       "       [5, 1]])"
      ]
     },
     "execution_count": 21,
     "metadata": {},
     "output_type": "execute_result"
    }
   ],
   "source": [
    "a[::2, ::3]"
   ]
  },
  {
   "cell_type": "markdown",
   "id": "139ad274",
   "metadata": {},
   "source": [
    "#  change the corner elements to 0"
   ]
  },
  {
   "cell_type": "code",
   "execution_count": 22,
   "id": "89dcb239",
   "metadata": {},
   "outputs": [],
   "source": [
    "a[::2, ::3] = 0"
   ]
  },
  {
   "cell_type": "code",
   "execution_count": 23,
   "id": "10595a46",
   "metadata": {},
   "outputs": [
    {
     "data": {
      "text/plain": [
       "array([[ 0, 10,  1,  0],\n",
       "       [14,  5,  6,  9],\n",
       "       [ 0,  7,  8,  0]])"
      ]
     },
     "execution_count": 23,
     "metadata": {},
     "output_type": "execute_result"
    }
   ],
   "source": [
    "a"
   ]
  },
  {
   "cell_type": "markdown",
   "id": "d327f333",
   "metadata": {},
   "source": [
    "# i want to access 1,2 4 column"
   ]
  },
  {
   "cell_type": "code",
   "execution_count": 24,
   "id": "99e9e9c8",
   "metadata": {},
   "outputs": [
    {
     "data": {
      "text/plain": [
       "array([[ 0, 10,  0],\n",
       "       [14,  5,  9],\n",
       "       [ 0,  7,  0]])"
      ]
     },
     "execution_count": 24,
     "metadata": {},
     "output_type": "execute_result"
    }
   ],
   "source": [
    "a[:, [0, 1, 3]]"
   ]
  },
  {
   "cell_type": "markdown",
   "id": "a2a4eab2",
   "metadata": {},
   "source": [
    "# i want to access 1,3,4 column"
   ]
  },
  {
   "cell_type": "code",
   "execution_count": 25,
   "id": "b8310a49",
   "metadata": {},
   "outputs": [
    {
     "data": {
      "text/plain": [
       "array([[ 0,  1,  0],\n",
       "       [14,  6,  9],\n",
       "       [ 0,  8,  0]])"
      ]
     },
     "execution_count": 25,
     "metadata": {},
     "output_type": "execute_result"
    }
   ],
   "source": [
    "a[:, [0, 2, 3]]"
   ]
  },
  {
   "cell_type": "markdown",
   "id": "e8f96840",
   "metadata": {},
   "source": [
    "# without using eye and identity create 5x5 identity matrix "
   ]
  },
  {
   "cell_type": "code",
   "execution_count": 26,
   "id": "aaa61e9f",
   "metadata": {},
   "outputs": [
    {
     "data": {
      "text/plain": [
       "array([[0., 0., 0., 0., 0.],\n",
       "       [0., 0., 0., 0., 0.],\n",
       "       [0., 0., 0., 0., 0.],\n",
       "       [0., 0., 0., 0., 0.],\n",
       "       [0., 0., 0., 0., 0.]])"
      ]
     },
     "execution_count": 26,
     "metadata": {},
     "output_type": "execute_result"
    }
   ],
   "source": [
    "d1 = np.zeros((5,5))\n",
    "d1"
   ]
  },
  {
   "cell_type": "code",
   "execution_count": 27,
   "id": "1fce0af8",
   "metadata": {},
   "outputs": [
    {
     "data": {
      "text/plain": [
       "array([[1., 0., 0., 0., 0.],\n",
       "       [0., 1., 0., 0., 0.],\n",
       "       [0., 0., 1., 0., 0.],\n",
       "       [0., 0., 0., 1., 0.],\n",
       "       [0., 0., 0., 0., 1.]])"
      ]
     },
     "execution_count": 27,
     "metadata": {},
     "output_type": "execute_result"
    }
   ],
   "source": [
    "# specified the array and value \n",
    "np.fill_diagonal(d1, 1)\n",
    "d1"
   ]
  },
  {
   "cell_type": "markdown",
   "id": "dd388fdd",
   "metadata": {},
   "source": [
    "# Conditional access to values"
   ]
  },
  {
   "cell_type": "code",
   "execution_count": 28,
   "id": "ed7df35e",
   "metadata": {},
   "outputs": [],
   "source": [
    "b = np.array([[12, 5, 6, 3], [10, 11, 9, 7],[6, 8, 13, 15]])"
   ]
  },
  {
   "cell_type": "code",
   "execution_count": 29,
   "id": "c48c17fe",
   "metadata": {},
   "outputs": [
    {
     "data": {
      "text/plain": [
       "array([[12,  5,  6,  3],\n",
       "       [10, 11,  9,  7],\n",
       "       [ 6,  8, 13, 15]])"
      ]
     },
     "execution_count": 29,
     "metadata": {},
     "output_type": "execute_result"
    }
   ],
   "source": [
    "b"
   ]
  },
  {
   "cell_type": "code",
   "execution_count": 30,
   "id": "8d25b8bb",
   "metadata": {},
   "outputs": [
    {
     "data": {
      "text/plain": [
       "array([[ True, False, False, False],\n",
       "       [False,  True, False, False],\n",
       "       [False, False,  True,  True]])"
      ]
     },
     "execution_count": 30,
     "metadata": {},
     "output_type": "execute_result"
    }
   ],
   "source": [
    "# check the value is greater than 10.\n",
    "b > 10\n",
    "# it will give boolean type output."
   ]
  },
  {
   "cell_type": "code",
   "execution_count": 31,
   "id": "15f40a8f",
   "metadata": {},
   "outputs": [
    {
     "data": {
      "text/plain": [
       "array([12, 11, 13, 15])"
      ]
     },
     "execution_count": 31,
     "metadata": {},
     "output_type": "execute_result"
    }
   ],
   "source": [
    "# how seen those value is greater than 10.\n",
    "# arrayname[condition] then we can see the output.\n",
    "b[b > 10]"
   ]
  },
  {
   "cell_type": "code",
   "execution_count": 32,
   "id": "53af9346",
   "metadata": {},
   "outputs": [
    {
     "data": {
      "text/plain": [
       "array([10])"
      ]
     },
     "execution_count": 32,
     "metadata": {},
     "output_type": "execute_result"
    }
   ],
   "source": [
    "b[b==10]"
   ]
  },
  {
   "cell_type": "code",
   "execution_count": 33,
   "id": "82fefe70",
   "metadata": {},
   "outputs": [
    {
     "data": {
      "text/plain": [
       "array([ 5,  6,  3, 10, 11,  9,  7,  6,  8])"
      ]
     },
     "execution_count": 33,
     "metadata": {},
     "output_type": "execute_result"
    }
   ],
   "source": [
    "b[b<12]"
   ]
  },
  {
   "cell_type": "code",
   "execution_count": 34,
   "id": "a7af96a8",
   "metadata": {},
   "outputs": [
    {
     "data": {
      "text/plain": [
       "array([6, 9, 7, 6, 8])"
      ]
     },
     "execution_count": 34,
     "metadata": {},
     "output_type": "execute_result"
    }
   ],
   "source": [
    "# use only bitwise operator , logical operator get error\n",
    "b[(b<10) & (b > 5)]"
   ]
  },
  {
   "cell_type": "markdown",
   "id": "e877e3e2",
   "metadata": {},
   "source": [
    "## math operations on array"
   ]
  },
  {
   "cell_type": "code",
   "execution_count": 35,
   "id": "8c7c3375",
   "metadata": {},
   "outputs": [
    {
     "data": {
      "text/plain": [
       "array([[22, 15, 16, 13],\n",
       "       [20, 21, 19, 17],\n",
       "       [16, 18, 23, 25]])"
      ]
     },
     "execution_count": 35,
     "metadata": {},
     "output_type": "execute_result"
    }
   ],
   "source": [
    "# its reflection, not inplace \n",
    "b + 10"
   ]
  },
  {
   "cell_type": "code",
   "execution_count": 36,
   "id": "c0d25cbf",
   "metadata": {},
   "outputs": [],
   "source": [
    "# if we want change the in place go through the assingment operator.\n",
    "b += 10"
   ]
  },
  {
   "cell_type": "code",
   "execution_count": 37,
   "id": "53d816e0",
   "metadata": {},
   "outputs": [
    {
     "data": {
      "text/plain": [
       "array([[22, 15, 16, 13],\n",
       "       [20, 21, 19, 17],\n",
       "       [16, 18, 23, 25]])"
      ]
     },
     "execution_count": 37,
     "metadata": {},
     "output_type": "execute_result"
    }
   ],
   "source": [
    "# 10 will be added \n",
    "b"
   ]
  },
  {
   "cell_type": "code",
   "execution_count": 38,
   "id": "b132daf3",
   "metadata": {},
   "outputs": [
    {
     "data": {
      "text/plain": [
       "array([[-23, -16, -17, -14],\n",
       "       [-21, -22, -20, -18],\n",
       "       [-17, -19, -24, -26]], dtype=int32)"
      ]
     },
     "execution_count": 38,
     "metadata": {},
     "output_type": "execute_result"
    }
   ],
   "source": [
    "# neglation\n",
    "~b"
   ]
  },
  {
   "cell_type": "code",
   "execution_count": 39,
   "id": "fa7ab670",
   "metadata": {},
   "outputs": [
    {
     "data": {
      "text/plain": [
       "array([32, 25, 26, 23, 30, 31, 29, 27, 26, 28, 33, 35])"
      ]
     },
     "execution_count": 39,
     "metadata": {},
     "output_type": "execute_result"
    }
   ],
   "source": [
    "b[b>6] + 10"
   ]
  },
  {
   "cell_type": "code",
   "execution_count": 40,
   "id": "b0a7f9de",
   "metadata": {},
   "outputs": [
    {
     "data": {
      "text/plain": [
       "array([[12,  5,  6,  3],\n",
       "       [10, 11,  9,  7],\n",
       "       [ 6,  8, 13, 15]])"
      ]
     },
     "execution_count": 40,
     "metadata": {},
     "output_type": "execute_result"
    }
   ],
   "source": [
    "b - 10"
   ]
  },
  {
   "cell_type": "code",
   "execution_count": 41,
   "id": "31f9ca4c",
   "metadata": {},
   "outputs": [
    {
     "data": {
      "text/plain": [
       "array([[44, 30, 32, 26],\n",
       "       [40, 42, 38, 34],\n",
       "       [32, 36, 46, 50]])"
      ]
     },
     "execution_count": 41,
     "metadata": {},
     "output_type": "execute_result"
    }
   ],
   "source": [
    "b * 2"
   ]
  },
  {
   "cell_type": "code",
   "execution_count": 42,
   "id": "2fcf92ba",
   "metadata": {},
   "outputs": [
    {
     "data": {
      "text/plain": [
       "array([[11,  7,  8,  6],\n",
       "       [10, 10,  9,  8],\n",
       "       [ 8,  9, 11, 12]], dtype=int32)"
      ]
     },
     "execution_count": 42,
     "metadata": {},
     "output_type": "execute_result"
    }
   ],
   "source": [
    "# floor_divison\n",
    "b // 2"
   ]
  },
  {
   "cell_type": "markdown",
   "id": "cdf5d871",
   "metadata": {},
   "source": [
    "## Vector math on array"
   ]
  },
  {
   "cell_type": "code",
   "execution_count": 43,
   "id": "30937c34",
   "metadata": {},
   "outputs": [
    {
     "data": {
      "text/plain": [
       "array([[1, 2, 3],\n",
       "       [4, 5, 6]])"
      ]
     },
     "execution_count": 43,
     "metadata": {},
     "output_type": "execute_result"
    }
   ],
   "source": [
    "x = np.array([[1, 2, 3], [4, 5, 6]])\n",
    "x"
   ]
  },
  {
   "cell_type": "code",
   "execution_count": 44,
   "id": "ca82269c",
   "metadata": {},
   "outputs": [
    {
     "data": {
      "text/plain": [
       "array([[7, 8, 9],\n",
       "       [5, 3, 4]])"
      ]
     },
     "execution_count": 44,
     "metadata": {},
     "output_type": "execute_result"
    }
   ],
   "source": [
    "y = np.array([[7, 8, 9], [5, 3, 4]])\n",
    "y"
   ]
  },
  {
   "cell_type": "code",
   "execution_count": 45,
   "id": "fd5d8dbe",
   "metadata": {},
   "outputs": [
    {
     "data": {
      "text/plain": [
       "array([[ 8, 10, 12],\n",
       "       [ 9,  8, 10]])"
      ]
     },
     "execution_count": 45,
     "metadata": {},
     "output_type": "execute_result"
    }
   ],
   "source": [
    "# reflection ,not inplace\n",
    "x + y"
   ]
  },
  {
   "cell_type": "code",
   "execution_count": 46,
   "id": "a1f2f4d0",
   "metadata": {},
   "outputs": [],
   "source": [
    "# inplace\n",
    "x += y"
   ]
  },
  {
   "cell_type": "code",
   "execution_count": 47,
   "id": "cbb3c63c",
   "metadata": {},
   "outputs": [
    {
     "data": {
      "text/plain": [
       "array([[ 8, 10, 12],\n",
       "       [ 9,  8, 10]])"
      ]
     },
     "execution_count": 47,
     "metadata": {},
     "output_type": "execute_result"
    }
   ],
   "source": [
    "x"
   ]
  },
  {
   "cell_type": "code",
   "execution_count": 48,
   "id": "19437923",
   "metadata": {},
   "outputs": [
    {
     "data": {
      "text/plain": [
       "array([[1, 2, 3],\n",
       "       [4, 5, 6]])"
      ]
     },
     "execution_count": 48,
     "metadata": {},
     "output_type": "execute_result"
    }
   ],
   "source": [
    "# array function\n",
    "np.subtract(x, y)"
   ]
  },
  {
   "cell_type": "code",
   "execution_count": 49,
   "id": "e1e78194",
   "metadata": {},
   "outputs": [
    {
     "data": {
      "text/plain": [
       "57"
      ]
     },
     "execution_count": 49,
     "metadata": {},
     "output_type": "execute_result"
    }
   ],
   "source": [
    "np.sum(x)"
   ]
  },
  {
   "cell_type": "code",
   "execution_count": 50,
   "id": "47eefc55",
   "metadata": {},
   "outputs": [
    {
     "data": {
      "text/plain": [
       "array([[15, 18, 21],\n",
       "       [14, 11, 14]])"
      ]
     },
     "execution_count": 50,
     "metadata": {},
     "output_type": "execute_result"
    }
   ],
   "source": [
    "# addition\n",
    "np.add(x, y)"
   ]
  },
  {
   "cell_type": "code",
   "execution_count": 51,
   "id": "fbc77525",
   "metadata": {},
   "outputs": [
    {
     "data": {
      "text/plain": [
       "array([[1, 1, 1],\n",
       "       [1, 2, 2]], dtype=int32)"
      ]
     },
     "execution_count": 51,
     "metadata": {},
     "output_type": "execute_result"
    }
   ],
   "source": [
    "np.floor_divide(x, y)"
   ]
  },
  {
   "cell_type": "markdown",
   "id": "1d331010",
   "metadata": {},
   "source": [
    "# Aggregate operations\n",
    "# min(), max(), std(), mean(),sum() "
   ]
  },
  {
   "cell_type": "code",
   "execution_count": 52,
   "id": "fe2315e4",
   "metadata": {},
   "outputs": [
    {
     "data": {
      "text/plain": [
       "13"
      ]
     },
     "execution_count": 52,
     "metadata": {},
     "output_type": "execute_result"
    }
   ],
   "source": [
    "# get minimum value in array\n",
    "np.min(b)"
   ]
  },
  {
   "cell_type": "code",
   "execution_count": 53,
   "id": "4e5b9a96",
   "metadata": {},
   "outputs": [
    {
     "data": {
      "text/plain": [
       "25"
      ]
     },
     "execution_count": 53,
     "metadata": {},
     "output_type": "execute_result"
    }
   ],
   "source": [
    "# maximum value\n",
    "np.max(b)"
   ]
  },
  {
   "cell_type": "code",
   "execution_count": 54,
   "id": "628550b3",
   "metadata": {},
   "outputs": [
    {
     "data": {
      "text/plain": [
       "3.418698582794336"
      ]
     },
     "execution_count": 54,
     "metadata": {},
     "output_type": "execute_result"
    }
   ],
   "source": [
    "# standard deviation \n",
    "np.std(b)"
   ]
  },
  {
   "cell_type": "code",
   "execution_count": 55,
   "id": "573991cd",
   "metadata": {},
   "outputs": [
    {
     "data": {
      "text/plain": [
       "array([3.35410197, 1.47901995, 3.64005494])"
      ]
     },
     "execution_count": 55,
     "metadata": {},
     "output_type": "execute_result"
    }
   ],
   "source": [
    "# rowwise std, 1 means row\n",
    "np.std(b, axis= 1)"
   ]
  },
  {
   "cell_type": "code",
   "execution_count": 56,
   "id": "3d388427",
   "metadata": {},
   "outputs": [
    {
     "data": {
      "text/plain": [
       "array([2.49443826, 2.44948974, 2.86744176, 4.98887652])"
      ]
     },
     "execution_count": 56,
     "metadata": {},
     "output_type": "execute_result"
    }
   ],
   "source": [
    "# columnwise std, 0 means colmuns\n",
    "np.std(b, axis= 0)"
   ]
  },
  {
   "cell_type": "code",
   "execution_count": 57,
   "id": "7be8f7e7",
   "metadata": {},
   "outputs": [
    {
     "data": {
      "text/plain": [
       "18.75"
      ]
     },
     "execution_count": 57,
     "metadata": {},
     "output_type": "execute_result"
    }
   ],
   "source": [
    "# average of array\n",
    "np.mean(b)"
   ]
  },
  {
   "cell_type": "code",
   "execution_count": 58,
   "id": "c62d75a0",
   "metadata": {},
   "outputs": [
    {
     "data": {
      "text/plain": [
       "225"
      ]
     },
     "execution_count": 58,
     "metadata": {},
     "output_type": "execute_result"
    }
   ],
   "source": [
    "# sum of array\n",
    "np.sum(b)"
   ]
  },
  {
   "cell_type": "code",
   "execution_count": 59,
   "id": "cf986e0d",
   "metadata": {},
   "outputs": [
    {
     "data": {
      "text/plain": [
       "18.5"
      ]
     },
     "execution_count": 59,
     "metadata": {},
     "output_type": "execute_result"
    }
   ],
   "source": [
    "# Returns the median of the array elements.\n",
    "np.median(b)"
   ]
  },
  {
   "cell_type": "markdown",
   "id": "450cd613",
   "metadata": {},
   "source": [
    "# var()\n",
    "Compute the variance along the specified axis. Returns the variance of the array elements, a measure of the spread of a distribution.\n"
   ]
  },
  {
   "cell_type": "code",
   "execution_count": 60,
   "id": "ed8c432a",
   "metadata": {},
   "outputs": [
    {
     "data": {
      "text/plain": [
       "array([11.25  ,  2.1875, 13.25  ])"
      ]
     },
     "execution_count": 60,
     "metadata": {},
     "output_type": "execute_result"
    }
   ],
   "source": [
    "# the variance along the specified axis.\n",
    "np.var(b, axis= 1) # row"
   ]
  },
  {
   "cell_type": "code",
   "execution_count": 61,
   "id": "a9adce88",
   "metadata": {},
   "outputs": [
    {
     "data": {
      "text/plain": [
       "array([ 6.22222222,  6.        ,  8.22222222, 24.88888889])"
      ]
     },
     "execution_count": 61,
     "metadata": {},
     "output_type": "execute_result"
    }
   ],
   "source": [
    "np.var(b, axis=0) # columns"
   ]
  },
  {
   "cell_type": "code",
   "execution_count": 88,
   "id": "68803fd1",
   "metadata": {},
   "outputs": [
    {
     "data": {
      "text/plain": [
       "array([1.  , 0.25])"
      ]
     },
     "execution_count": 88,
     "metadata": {},
     "output_type": "execute_result"
    }
   ],
   "source": [
    "np.var([[1.2, 3.1],[3.2, 4.1]], axis= 0)"
   ]
  },
  {
   "cell_type": "markdown",
   "id": "67c371f7",
   "metadata": {},
   "source": [
    "# corrcoef()"
   ]
  },
  {
   "cell_type": "code",
   "execution_count": 62,
   "id": "0d4a293d",
   "metadata": {},
   "outputs": [
    {
     "data": {
      "text/plain": [
       "array([[ 1.        ,  0.478755  , -0.77810715],\n",
       "       [ 0.478755  ,  1.        , -0.8590724 ],\n",
       "       [-0.77810715, -0.8590724 ,  1.        ]])"
      ]
     },
     "execution_count": 62,
     "metadata": {},
     "output_type": "execute_result"
    }
   ],
   "source": [
    "# Return Pearson product-moment correlation coefficients.\n",
    "np.corrcoef(b)"
   ]
  },
  {
   "cell_type": "markdown",
   "id": "3f403aca",
   "metadata": {},
   "source": [
    "# power()"
   ]
  },
  {
   "cell_type": "code",
   "execution_count": 63,
   "id": "1b85720e",
   "metadata": {},
   "outputs": [
    {
     "data": {
      "text/plain": [
       "array([[  2097152, 100000000, 864813056],\n",
       "       [    59049,       512,     10000]], dtype=int32)"
      ]
     },
     "execution_count": 63,
     "metadata": {},
     "output_type": "execute_result"
    }
   ],
   "source": [
    "# First array elements raised to powers from second array\n",
    "np.power(x,y)"
   ]
  },
  {
   "cell_type": "code",
   "execution_count": 64,
   "id": "0ea00bd4",
   "metadata": {},
   "outputs": [
    {
     "data": {
      "text/plain": [
       "array([[ 8, 10, 12],\n",
       "       [ 9,  8, 10]])"
      ]
     },
     "execution_count": 64,
     "metadata": {},
     "output_type": "execute_result"
    }
   ],
   "source": [
    "x"
   ]
  },
  {
   "cell_type": "code",
   "execution_count": 65,
   "id": "bf3cf860",
   "metadata": {},
   "outputs": [
    {
     "data": {
      "text/plain": [
       "array([[7, 8, 9],\n",
       "       [5, 3, 4]])"
      ]
     },
     "execution_count": 65,
     "metadata": {},
     "output_type": "execute_result"
    }
   ],
   "source": [
    "y"
   ]
  },
  {
   "cell_type": "markdown",
   "id": "a9a55389",
   "metadata": {},
   "source": [
    "# array_equal()"
   ]
  },
  {
   "cell_type": "code",
   "execution_count": 66,
   "id": "dc64840c",
   "metadata": {},
   "outputs": [
    {
     "data": {
      "text/plain": [
       "False"
      ]
     },
     "execution_count": 66,
     "metadata": {},
     "output_type": "execute_result"
    }
   ],
   "source": [
    "# True if two arrays have the same shape and elements, False otherwise\n",
    "np.array_equal(x, y)"
   ]
  },
  {
   "cell_type": "code",
   "execution_count": 67,
   "id": "adc51b71",
   "metadata": {},
   "outputs": [
    {
     "data": {
      "text/plain": [
       "True"
      ]
     },
     "execution_count": 67,
     "metadata": {},
     "output_type": "execute_result"
    }
   ],
   "source": [
    "np.array_equal([1, 2], [1, 2], [1, 2, 1, 2])"
   ]
  },
  {
   "cell_type": "markdown",
   "id": "ad9c3dbc",
   "metadata": {},
   "source": [
    "# array_equiv()"
   ]
  },
  {
   "cell_type": "code",
   "execution_count": 68,
   "id": "60717ef8",
   "metadata": {},
   "outputs": [
    {
     "data": {
      "text/plain": [
       "True"
      ]
     },
     "execution_count": 68,
     "metadata": {},
     "output_type": "execute_result"
    }
   ],
   "source": [
    "# Returns True if input arrays are shape consistent and all elements equal.\n",
    "np.array_equiv(x,x)"
   ]
  },
  {
   "cell_type": "code",
   "execution_count": 69,
   "id": "ccfd85a3",
   "metadata": {},
   "outputs": [
    {
     "data": {
      "text/plain": [
       "True"
      ]
     },
     "execution_count": 69,
     "metadata": {},
     "output_type": "execute_result"
    }
   ],
   "source": [
    "np.array_equiv([1, 2], [1, 2])"
   ]
  },
  {
   "cell_type": "code",
   "execution_count": 70,
   "id": "3fdd9058",
   "metadata": {},
   "outputs": [
    {
     "name": "stderr",
     "output_type": "stream",
     "text": [
      "c:\\users\\hp\\python\\python37\\lib\\site-packages\\numpy\\core\\_asarray.py:102: VisibleDeprecationWarning: Creating an ndarray from ragged nested sequences (which is a list-or-tuple of lists-or-tuples-or ndarrays with different lengths or shapes) is deprecated. If you meant to do this, you must specify 'dtype=object' when creating the ndarray.\n",
      "  return array(a, dtype, copy=False, order=order)\n"
     ]
    },
    {
     "data": {
      "text/plain": [
       "False"
      ]
     },
     "execution_count": 70,
     "metadata": {},
     "output_type": "execute_result"
    }
   ],
   "source": [
    "np.array_equiv([1, 2], [[1, 2], [1, 2, 1, 2]])"
   ]
  },
  {
   "cell_type": "markdown",
   "id": "52680e6b",
   "metadata": {},
   "source": [
    "# sqrt()"
   ]
  },
  {
   "cell_type": "code",
   "execution_count": 71,
   "id": "c4c07110",
   "metadata": {},
   "outputs": [
    {
     "data": {
      "text/plain": [
       "array([[4.69041576, 3.87298335, 4.        , 3.60555128],\n",
       "       [4.47213595, 4.58257569, 4.35889894, 4.12310563],\n",
       "       [4.        , 4.24264069, 4.79583152, 5.        ]])"
      ]
     },
     "execution_count": 71,
     "metadata": {},
     "output_type": "execute_result"
    }
   ],
   "source": [
    "# Return the non-negative square-root of an array, element-wise.\n",
    "np.sqrt(b)"
   ]
  },
  {
   "cell_type": "markdown",
   "id": "33db551e",
   "metadata": {},
   "source": [
    "# sin()"
   ]
  },
  {
   "cell_type": "code",
   "execution_count": 72,
   "id": "49216db0",
   "metadata": {},
   "outputs": [
    {
     "data": {
      "text/plain": [
       "array([[-0.00885131,  0.65028784, -0.28790332,  0.42016704],\n",
       "       [ 0.91294525,  0.83665564,  0.14987721, -0.96139749],\n",
       "       [-0.28790332, -0.75098725, -0.8462204 , -0.13235175]])"
      ]
     },
     "execution_count": 72,
     "metadata": {},
     "output_type": "execute_result"
    }
   ],
   "source": [
    "# Trigonometric sine, element-wise.\n",
    "np.sin(b)"
   ]
  },
  {
   "cell_type": "code",
   "execution_count": 73,
   "id": "5623ae24",
   "metadata": {},
   "outputs": [
    {
     "data": {
      "text/plain": [
       "array([[ 0.98935825, -0.54402111, -0.53657292],\n",
       "       [ 0.41211849,  0.98935825, -0.54402111]])"
      ]
     },
     "execution_count": 73,
     "metadata": {},
     "output_type": "execute_result"
    }
   ],
   "source": [
    "np.sin(x)"
   ]
  },
  {
   "cell_type": "markdown",
   "id": "114d714a",
   "metadata": {},
   "source": [
    "# cos()"
   ]
  },
  {
   "cell_type": "code",
   "execution_count": 74,
   "id": "39997222",
   "metadata": {},
   "outputs": [
    {
     "data": {
      "text/plain": [
       "array([[-0.99996083, -0.75968791, -0.95765948,  0.90744678],\n",
       "       [ 0.40808206, -0.54772926,  0.98870462, -0.27516334],\n",
       "       [-0.95765948,  0.66031671, -0.53283302,  0.99120281]])"
      ]
     },
     "execution_count": 74,
     "metadata": {},
     "output_type": "execute_result"
    }
   ],
   "source": [
    "# Trigonometric sine, element-wise.\n",
    "np.cos(b)"
   ]
  },
  {
   "cell_type": "code",
   "execution_count": 75,
   "id": "f3320c8c",
   "metadata": {},
   "outputs": [
    {
     "data": {
      "text/plain": [
       "array([[ 0.75390225, -0.14550003, -0.91113026],\n",
       "       [ 0.28366219, -0.9899925 , -0.65364362]])"
      ]
     },
     "execution_count": 75,
     "metadata": {},
     "output_type": "execute_result"
    }
   ],
   "source": [
    "np.cos(y)"
   ]
  },
  {
   "cell_type": "markdown",
   "id": "e07e13ec",
   "metadata": {},
   "source": [
    "#  log()"
   ]
  },
  {
   "cell_type": "code",
   "execution_count": 76,
   "id": "a8afacac",
   "metadata": {},
   "outputs": [
    {
     "data": {
      "text/plain": [
       "array([[3.09104245, 2.7080502 , 2.77258872, 2.56494936],\n",
       "       [2.99573227, 3.04452244, 2.94443898, 2.83321334],\n",
       "       [2.77258872, 2.89037176, 3.13549422, 3.21887582]])"
      ]
     },
     "execution_count": 76,
     "metadata": {},
     "output_type": "execute_result"
    }
   ],
   "source": [
    "# Natural logarithm, element-wise.\n",
    "np.log(b)"
   ]
  },
  {
   "cell_type": "markdown",
   "id": "b97d83f8",
   "metadata": {},
   "source": [
    "# abs()"
   ]
  },
  {
   "cell_type": "code",
   "execution_count": 77,
   "id": "b090daaf",
   "metadata": {},
   "outputs": [
    {
     "data": {
      "text/plain": [
       "array([[22, 15, 16, 13],\n",
       "       [20, 21, 19, 17],\n",
       "       [16, 18, 23, 25]])"
      ]
     },
     "execution_count": 77,
     "metadata": {},
     "output_type": "execute_result"
    }
   ],
   "source": [
    "# Calculate the absolute value element-wise. \n",
    "np.abs(b)"
   ]
  },
  {
   "cell_type": "code",
   "execution_count": 78,
   "id": "49f3d08a",
   "metadata": {},
   "outputs": [
    {
     "data": {
      "text/plain": [
       "array([[ 8, 10, 12],\n",
       "       [ 9,  8, 10]])"
      ]
     },
     "execution_count": 78,
     "metadata": {},
     "output_type": "execute_result"
    }
   ],
   "source": [
    "np.abs(x)"
   ]
  },
  {
   "cell_type": "code",
   "execution_count": 79,
   "id": "c4e754b8",
   "metadata": {},
   "outputs": [
    {
     "data": {
      "text/plain": [
       "array([1.2, 1.2])"
      ]
     },
     "execution_count": 79,
     "metadata": {},
     "output_type": "execute_result"
    }
   ],
   "source": [
    "np.abs([-1.2, 1.2])"
   ]
  },
  {
   "cell_type": "code",
   "execution_count": 80,
   "id": "01b5e2b5",
   "metadata": {},
   "outputs": [
    {
     "data": {
      "text/plain": [
       "array([1. , 1. , 1. , 1.2])"
      ]
     },
     "execution_count": 80,
     "metadata": {},
     "output_type": "execute_result"
    }
   ],
   "source": [
    "np.abs([1, 1.0, -1, 1.2])"
   ]
  },
  {
   "cell_type": "markdown",
   "id": "06381a2a",
   "metadata": {},
   "source": [
    "# ceil()"
   ]
  },
  {
   "cell_type": "code",
   "execution_count": 81,
   "id": "81201607",
   "metadata": {},
   "outputs": [
    {
     "data": {
      "text/plain": [
       "array([[22., 15., 16., 13.],\n",
       "       [20., 21., 19., 17.],\n",
       "       [16., 18., 23., 25.]])"
      ]
     },
     "execution_count": 81,
     "metadata": {},
     "output_type": "execute_result"
    }
   ],
   "source": [
    "# Return the ceiling of the input, element-wise.\n",
    "np.ceil(b)"
   ]
  },
  {
   "cell_type": "code",
   "execution_count": 82,
   "id": "97764069",
   "metadata": {},
   "outputs": [
    {
     "data": {
      "text/plain": [
       "array([-1.,  0.,  2., -1.,  2.,  1., -0.,  2.,  2.,  2.,  3.,  2.])"
      ]
     },
     "execution_count": 82,
     "metadata": {},
     "output_type": "execute_result"
    }
   ],
   "source": [
    "np.ceil([-1.0, 0.0, 1.2, -1.2, 1.5, 0.2, -0.2, 1.7, 1.8, 2.0, 2.5,1.4])"
   ]
  },
  {
   "cell_type": "code",
   "execution_count": 83,
   "id": "8db89a19",
   "metadata": {},
   "outputs": [],
   "source": [
    "# Returns the closest integer greater than or equal to a given number. \n",
    "#Ceiling is often used as a rounding function. This is a single-value function."
   ]
  },
  {
   "cell_type": "markdown",
   "id": "6462fc0f",
   "metadata": {},
   "source": [
    "# floor()"
   ]
  },
  {
   "cell_type": "code",
   "execution_count": 84,
   "id": "d909d643",
   "metadata": {},
   "outputs": [
    {
     "data": {
      "text/plain": [
       "array([ 1.,  3., -3.,  4.,  5.,  4.,  6., -7.])"
      ]
     },
     "execution_count": 84,
     "metadata": {},
     "output_type": "execute_result"
    }
   ],
   "source": [
    "# Return the floor of the input, element-wise.\n",
    "# if element is nigative, contains float value it will add one get nigative element.\n",
    "# \n",
    "np.floor([1.0, 3.0, -3.0, 4.0, 5.0, 4.6, 6.0, -7.0])"
   ]
  },
  {
   "cell_type": "markdown",
   "id": "9733ccff",
   "metadata": {},
   "source": [
    "# round()"
   ]
  },
  {
   "cell_type": "code",
   "execution_count": 85,
   "id": "a63b0e6a",
   "metadata": {},
   "outputs": [
    {
     "data": {
      "text/plain": [
       "4.0"
      ]
     },
     "execution_count": 85,
     "metadata": {},
     "output_type": "execute_result"
    }
   ],
   "source": [
    "# Round an array to the given number of decimals.\n",
    "np.round(4.5)"
   ]
  },
  {
   "cell_type": "code",
   "execution_count": 86,
   "id": "6d87345c",
   "metadata": {},
   "outputs": [
    {
     "data": {
      "text/plain": [
       "5.0"
      ]
     },
     "execution_count": 86,
     "metadata": {},
     "output_type": "execute_result"
    }
   ],
   "source": [
    "# if .6 onwards return the decimal number.\n",
    "np.round(4.6)"
   ]
  },
  {
   "cell_type": "code",
   "execution_count": null,
   "id": "83fbf1a9",
   "metadata": {},
   "outputs": [],
   "source": []
  }
 ],
 "metadata": {
  "kernelspec": {
   "display_name": "Python 3 (ipykernel)",
   "language": "python",
   "name": "python3"
  },
  "language_info": {
   "codemirror_mode": {
    "name": "ipython",
    "version": 3
   },
   "file_extension": ".py",
   "mimetype": "text/x-python",
   "name": "python",
   "nbconvert_exporter": "python",
   "pygments_lexer": "ipython3",
   "version": "3.7.7"
  }
 },
 "nbformat": 4,
 "nbformat_minor": 5
}
