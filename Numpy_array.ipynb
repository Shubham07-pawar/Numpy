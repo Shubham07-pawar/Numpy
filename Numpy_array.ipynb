{
 "cells": [
  {
   "cell_type": "code",
   "execution_count": 1,
   "id": "1611d9e0",
   "metadata": {},
   "outputs": [],
   "source": [
    "import numpy as np"
   ]
  },
  {
   "cell_type": "markdown",
   "id": "068e6138",
   "metadata": {},
   "source": [
    "Types of array in numpy\n",
    "1. 1-D array\n",
    "2. 2-D array\n",
    "3. 3-D array"
   ]
  },
  {
   "cell_type": "markdown",
   "id": "031d74ae",
   "metadata": {},
   "source": [
    "# 1-D array"
   ]
  },
  {
   "cell_type": "code",
   "execution_count": 2,
   "id": "5d38a7a9",
   "metadata": {},
   "outputs": [
    {
     "data": {
      "text/plain": [
       "array([1, 2, 3, 4, 5])"
      ]
     },
     "execution_count": 2,
     "metadata": {},
     "output_type": "execute_result"
    }
   ],
   "source": [
    "a = np.array([1, 2, 3, 4, 5])\n",
    "a"
   ]
  },
  {
   "cell_type": "code",
   "execution_count": 3,
   "id": "5813904f",
   "metadata": {},
   "outputs": [
    {
     "data": {
      "text/plain": [
       "1"
      ]
     },
     "execution_count": 3,
     "metadata": {},
     "output_type": "execute_result"
    }
   ],
   "source": [
    "# check the dimension of array\n",
    "a.ndim"
   ]
  },
  {
   "cell_type": "code",
   "execution_count": 4,
   "id": "101e17f5",
   "metadata": {},
   "outputs": [
    {
     "data": {
      "text/plain": [
       "5"
      ]
     },
     "execution_count": 4,
     "metadata": {},
     "output_type": "execute_result"
    }
   ],
   "source": [
    "# check the size of array\n",
    "a.size"
   ]
  },
  {
   "cell_type": "code",
   "execution_count": 5,
   "id": "b14f93e9",
   "metadata": {},
   "outputs": [
    {
     "data": {
      "text/plain": [
       "5"
      ]
     },
     "execution_count": 5,
     "metadata": {},
     "output_type": "execute_result"
    }
   ],
   "source": [
    "# using len() function\n",
    "len(a)"
   ]
  },
  {
   "cell_type": "code",
   "execution_count": 6,
   "id": "071ffb5b",
   "metadata": {},
   "outputs": [
    {
     "data": {
      "text/plain": [
       "dtype('int32')"
      ]
     },
     "execution_count": 6,
     "metadata": {},
     "output_type": "execute_result"
    }
   ],
   "source": [
    "# check the dtype of array\n",
    "a.dtype"
   ]
  },
  {
   "cell_type": "code",
   "execution_count": 7,
   "id": "957bf7e3",
   "metadata": {},
   "outputs": [
    {
     "data": {
      "text/plain": [
       "numpy.ndarray"
      ]
     },
     "execution_count": 7,
     "metadata": {},
     "output_type": "execute_result"
    }
   ],
   "source": [
    "# check the type of array\n",
    "type(a)"
   ]
  },
  {
   "cell_type": "markdown",
   "id": "a8a40950",
   "metadata": {},
   "source": [
    "# 2-D array"
   ]
  },
  {
   "cell_type": "code",
   "execution_count": 8,
   "id": "f7971e68",
   "metadata": {},
   "outputs": [
    {
     "data": {
      "text/plain": [
       "array([[1, 2, 3],\n",
       "       [4, 5, 6]])"
      ]
     },
     "execution_count": 8,
     "metadata": {},
     "output_type": "execute_result"
    }
   ],
   "source": [
    "s = np.array([[1, 2, 3], [4, 5, 6]])\n",
    "s"
   ]
  },
  {
   "cell_type": "code",
   "execution_count": 9,
   "id": "3c24a825",
   "metadata": {},
   "outputs": [
    {
     "data": {
      "text/plain": [
       "2"
      ]
     },
     "execution_count": 9,
     "metadata": {},
     "output_type": "execute_result"
    }
   ],
   "source": [
    "s.ndim"
   ]
  },
  {
   "cell_type": "code",
   "execution_count": 10,
   "id": "2f90aad1",
   "metadata": {},
   "outputs": [
    {
     "data": {
      "text/plain": [
       "6"
      ]
     },
     "execution_count": 10,
     "metadata": {},
     "output_type": "execute_result"
    }
   ],
   "source": [
    "s.size"
   ]
  },
  {
   "cell_type": "code",
   "execution_count": 11,
   "id": "bf782759",
   "metadata": {},
   "outputs": [
    {
     "data": {
      "text/plain": [
       "(2, 3)"
      ]
     },
     "execution_count": 11,
     "metadata": {},
     "output_type": "execute_result"
    }
   ],
   "source": [
    "# check the shape of array,get the form of tuple (row, columns)\n",
    "s.shape"
   ]
  },
  {
   "cell_type": "code",
   "execution_count": 12,
   "id": "4b2f2d18",
   "metadata": {},
   "outputs": [
    {
     "data": {
      "text/plain": [
       "dtype('int32')"
      ]
     },
     "execution_count": 12,
     "metadata": {},
     "output_type": "execute_result"
    }
   ],
   "source": [
    "s.dtype"
   ]
  },
  {
   "cell_type": "markdown",
   "id": "809be557",
   "metadata": {},
   "source": [
    "# 3-D array"
   ]
  },
  {
   "cell_type": "code",
   "execution_count": 13,
   "id": "9a8f3351",
   "metadata": {},
   "outputs": [
    {
     "data": {
      "text/plain": [
       "array([[[ 1,  2,  3],\n",
       "        [ 4,  5,  6],\n",
       "        [ 6,  4,  7]],\n",
       "\n",
       "       [[14, 12, 25],\n",
       "        [21, 23, 52],\n",
       "        [45, 25, 21]]])"
      ]
     },
     "execution_count": 13,
     "metadata": {},
     "output_type": "execute_result"
    }
   ],
   "source": [
    "d = np.array([[[1, 2, 3], [4, 5, 6], [6, 4, 7]],[[14, 12, 25], [21, 23, 52], [45, 25, 21]]])\n",
    "d"
   ]
  },
  {
   "cell_type": "code",
   "execution_count": 14,
   "id": "6e18d342",
   "metadata": {},
   "outputs": [
    {
     "data": {
      "text/plain": [
       "3"
      ]
     },
     "execution_count": 14,
     "metadata": {},
     "output_type": "execute_result"
    }
   ],
   "source": [
    "d.ndim"
   ]
  },
  {
   "cell_type": "code",
   "execution_count": 15,
   "id": "cf1650a4",
   "metadata": {},
   "outputs": [
    {
     "data": {
      "text/plain": [
       "18"
      ]
     },
     "execution_count": 15,
     "metadata": {},
     "output_type": "execute_result"
    }
   ],
   "source": [
    "d.size"
   ]
  },
  {
   "cell_type": "code",
   "execution_count": 16,
   "id": "5ac529a5",
   "metadata": {},
   "outputs": [
    {
     "data": {
      "text/plain": [
       "(2, 3, 3)"
      ]
     },
     "execution_count": 16,
     "metadata": {},
     "output_type": "execute_result"
    }
   ],
   "source": [
    "# get tuple (no block, row, column)\n",
    "d.shape"
   ]
  },
  {
   "cell_type": "markdown",
   "id": "43e30e41",
   "metadata": {},
   "source": [
    "# create array using default functions of numpy"
   ]
  },
  {
   "cell_type": "code",
   "execution_count": 25,
   "id": "b60632c2",
   "metadata": {},
   "outputs": [
    {
     "data": {
      "text/plain": [
       "array([0., 0., 0., 0., 0.])"
      ]
     },
     "execution_count": 25,
     "metadata": {},
     "output_type": "execute_result"
    }
   ],
   "source": [
    "# create array with all zero's\n",
    "# 1-D array\n",
    "s = np.zeros(5)\n",
    "s"
   ]
  },
  {
   "cell_type": "code",
   "execution_count": 26,
   "id": "ec800c80",
   "metadata": {},
   "outputs": [
    {
     "data": {
      "text/plain": [
       "1"
      ]
     },
     "execution_count": 26,
     "metadata": {},
     "output_type": "execute_result"
    }
   ],
   "source": [
    "s.ndim"
   ]
  },
  {
   "cell_type": "code",
   "execution_count": 29,
   "id": "ed2fdd01",
   "metadata": {},
   "outputs": [
    {
     "data": {
      "text/plain": [
       "array([[0., 0., 0., 0.],\n",
       "       [0., 0., 0., 0.],\n",
       "       [0., 0., 0., 0.],\n",
       "       [0., 0., 0., 0.]])"
      ]
     },
     "execution_count": 29,
     "metadata": {},
     "output_type": "execute_result"
    }
   ],
   "source": [
    "# 2-D array \n",
    "s1 = np.zeros((4,4))\n",
    "s1"
   ]
  },
  {
   "cell_type": "code",
   "execution_count": 31,
   "id": "3212a2a6",
   "metadata": {},
   "outputs": [
    {
     "data": {
      "text/plain": [
       "2"
      ]
     },
     "execution_count": 31,
     "metadata": {},
     "output_type": "execute_result"
    }
   ],
   "source": [
    "s1.ndim"
   ]
  },
  {
   "cell_type": "code",
   "execution_count": 33,
   "id": "1bd2d8c1",
   "metadata": {},
   "outputs": [
    {
     "data": {
      "text/plain": [
       "array([[[0., 0., 0.],\n",
       "        [0., 0., 0.],\n",
       "        [0., 0., 0.]],\n",
       "\n",
       "       [[0., 0., 0.],\n",
       "        [0., 0., 0.],\n",
       "        [0., 0., 0.]]])"
      ]
     },
     "execution_count": 33,
     "metadata": {},
     "output_type": "execute_result"
    }
   ],
   "source": [
    "# 3-D array\n",
    "s3 = np.zeros((2, 3, 3))\n",
    "s3"
   ]
  },
  {
   "cell_type": "code",
   "execution_count": 34,
   "id": "c36876ea",
   "metadata": {},
   "outputs": [
    {
     "data": {
      "text/plain": [
       "3"
      ]
     },
     "execution_count": 34,
     "metadata": {},
     "output_type": "execute_result"
    }
   ],
   "source": [
    "s3.ndim"
   ]
  },
  {
   "cell_type": "code",
   "execution_count": 41,
   "id": "ada55be7",
   "metadata": {},
   "outputs": [
    {
     "data": {
      "text/plain": [
       "array([[1., 1., 1., 1.],\n",
       "       [1., 1., 1., 1.],\n",
       "       [1., 1., 1., 1.],\n",
       "       [1., 1., 1., 1.]])"
      ]
     },
     "execution_count": 41,
     "metadata": {},
     "output_type": "execute_result"
    }
   ],
   "source": [
    "# create array with all one's\n",
    "a1 = np.ones((4, 4)) # 3-D array np.ones((1, 4, 4))\n",
    "a1"
   ]
  },
  {
   "cell_type": "code",
   "execution_count": 44,
   "id": "e930a474",
   "metadata": {},
   "outputs": [
    {
     "data": {
      "text/plain": [
       "array([[1., 0., 0., 0., 0.],\n",
       "       [0., 1., 0., 0., 0.],\n",
       "       [0., 0., 1., 0., 0.],\n",
       "       [0., 0., 0., 1., 0.],\n",
       "       [0., 0., 0., 0., 1.]])"
      ]
     },
     "execution_count": 44,
     "metadata": {},
     "output_type": "execute_result"
    }
   ],
   "source": [
    "# create identity matrix / array\n",
    "# identity means diagonal elements are 1\n",
    "np.eye(5)"
   ]
  },
  {
   "cell_type": "markdown",
   "id": "cab1fa61",
   "metadata": {},
   "source": [
    "# how to convert array to  list"
   ]
  },
  {
   "cell_type": "code",
   "execution_count": 46,
   "id": "9c5a494b",
   "metadata": {},
   "outputs": [
    {
     "data": {
      "text/plain": [
       "array([[1., 1., 1., 1.],\n",
       "       [1., 1., 1., 1.],\n",
       "       [1., 1., 1., 1.],\n",
       "       [1., 1., 1., 1.]])"
      ]
     },
     "execution_count": 46,
     "metadata": {},
     "output_type": "execute_result"
    }
   ],
   "source": [
    "b = np.ones((4,4))\n",
    "b"
   ]
  },
  {
   "cell_type": "code",
   "execution_count": 50,
   "id": "26d239e9",
   "metadata": {},
   "outputs": [
    {
     "data": {
      "text/plain": [
       "[[1.0, 1.0, 1.0, 1.0],\n",
       " [1.0, 1.0, 1.0, 1.0],\n",
       " [1.0, 1.0, 1.0, 1.0],\n",
       " [1.0, 1.0, 1.0, 1.0]]"
      ]
     },
     "execution_count": 50,
     "metadata": {},
     "output_type": "execute_result"
    }
   ],
   "source": [
    "# tolist() convert array to list\n",
    "b.tolist()"
   ]
  },
  {
   "cell_type": "code",
   "execution_count": 52,
   "id": "e8afb41b",
   "metadata": {},
   "outputs": [
    {
     "data": {
      "text/plain": [
       "list"
      ]
     },
     "execution_count": 52,
     "metadata": {},
     "output_type": "execute_result"
    }
   ],
   "source": [
    "type(b.tolist())"
   ]
  },
  {
   "cell_type": "code",
   "execution_count": 53,
   "id": "aef8c429",
   "metadata": {},
   "outputs": [
    {
     "data": {
      "text/plain": [
       "[array([1., 1., 1., 1.]),\n",
       " array([1., 1., 1., 1.]),\n",
       " array([1., 1., 1., 1.]),\n",
       " array([1., 1., 1., 1.])]"
      ]
     },
     "execution_count": 53,
     "metadata": {},
     "output_type": "execute_result"
    }
   ],
   "source": [
    "# using list keyword\n",
    "list(b)"
   ]
  },
  {
   "cell_type": "markdown",
   "id": "08cbd346",
   "metadata": {},
   "source": [
    "#  arange() "
   ]
  },
  {
   "cell_type": "code",
   "execution_count": 54,
   "id": "8757bac5",
   "metadata": {},
   "outputs": [
    {
     "data": {
      "text/plain": [
       "array([1, 2, 3, 4, 5, 6, 7, 8, 9])"
      ]
     },
     "execution_count": 54,
     "metadata": {},
     "output_type": "execute_result"
    }
   ],
   "source": [
    " # arange() is similar that python range function\n",
    "np.arange(1, 10)"
   ]
  },
  {
   "cell_type": "code",
   "execution_count": 58,
   "id": "a1e83a4c",
   "metadata": {},
   "outputs": [
    {
     "data": {
      "text/plain": [
       "array([10,  9,  8,  7,  6,  5,  4,  3,  2])"
      ]
     },
     "execution_count": 58,
     "metadata": {},
     "output_type": "execute_result"
    }
   ],
   "source": [
    "# reverse the arange(start, stop, step) start=> inclusive, step=> exclusive\n",
    "np.arange(10, 1, -1)"
   ]
  },
  {
   "cell_type": "markdown",
   "id": "528ec23d",
   "metadata": {},
   "source": [
    "# dtype of array and typecasting of array"
   ]
  },
  {
   "cell_type": "code",
   "execution_count": 68,
   "id": "2e356cf3",
   "metadata": {},
   "outputs": [
    {
     "data": {
      "text/plain": [
       "dtype('float64')"
      ]
     },
     "execution_count": 68,
     "metadata": {},
     "output_type": "execute_result"
    }
   ],
   "source": [
    "# create array and  check the dtype of array\n",
    "b1 = np.ones((5,5))\n",
    "b1.dtype"
   ]
  },
  {
   "cell_type": "code",
   "execution_count": 71,
   "id": "5570bbd3",
   "metadata": {},
   "outputs": [
    {
     "data": {
      "text/plain": [
       "dtype('int32')"
      ]
     },
     "execution_count": 71,
     "metadata": {},
     "output_type": "execute_result"
    }
   ],
   "source": [
    "# explicite Typecasting \n",
    "b1 = np.ones((5,5), dtype=\"int32\")\n",
    "b1.dtype"
   ]
  },
  {
   "cell_type": "code",
   "execution_count": 75,
   "id": "acc52e48",
   "metadata": {},
   "outputs": [
    {
     "data": {
      "text/plain": [
       "dtype('int32')"
      ]
     },
     "execution_count": 75,
     "metadata": {},
     "output_type": "execute_result"
    }
   ],
   "source": [
    "b2 = np.array([[1, 2, 3, 4], [5, 6, 7, 8], [4, 7, 2, 3]])\n",
    "b2.dtype"
   ]
  },
  {
   "cell_type": "code",
   "execution_count": 77,
   "id": "c1acd5de",
   "metadata": {},
   "outputs": [
    {
     "data": {
      "text/plain": [
       "array([[1, 2, 3, 4],\n",
       "       [5, 6, 7, 8],\n",
       "       [4, 7, 2, 3]], dtype=object)"
      ]
     },
     "execution_count": 77,
     "metadata": {},
     "output_type": "execute_result"
    }
   ],
   "source": [
    "# i want to change the dtype of array 'int' to 'string'(object)\n",
    "b2 = np.array([[1, 2, 3, 4], [5, 6, 7, 8], [4, 7, 2, 3]], dtype= \"object\")\n",
    "b2"
   ]
  },
  {
   "cell_type": "code",
   "execution_count": 78,
   "id": "6e60b6a2",
   "metadata": {},
   "outputs": [
    {
     "data": {
      "text/plain": [
       "array([ True,  True,  True,  True,  True])"
      ]
     },
     "execution_count": 78,
     "metadata": {},
     "output_type": "execute_result"
    }
   ],
   "source": [
    "# bool dtype\n",
    "np.array([1, 4, 5, 6, 4], dtype=\"bool\")"
   ]
  },
  {
   "cell_type": "code",
   "execution_count": 79,
   "id": "a9ef5246",
   "metadata": {},
   "outputs": [
    {
     "data": {
      "text/plain": [
       "array([False,  True, False, False])"
      ]
     },
     "execution_count": 79,
     "metadata": {},
     "output_type": "execute_result"
    }
   ],
   "source": [
    "# \"\", '' and  None are the false value\n",
    "# if ' ' inside qoute space is present then it will the true, bcuse in str whitespace also object\n",
    "np.array(['', ' ', '', ''], dtype = \"bool\")"
   ]
  },
  {
   "cell_type": "code",
   "execution_count": 81,
   "id": "6e0610f1",
   "metadata": {},
   "outputs": [
    {
     "data": {
      "text/plain": [
       "array([False, False, False, False])"
      ]
     },
     "execution_count": 81,
     "metadata": {},
     "output_type": "execute_result"
    }
   ],
   "source": [
    "np.array([None, None, None, None], dtype=\"bool\")"
   ]
  },
  {
   "cell_type": "raw",
   "id": "2aa4f233",
   "metadata": {},
   "source": [
    "why need to convert dtype of array?\n",
    "suppose our array contains the \"age\", age dtype is object and i want perform numric opertion on array, that time we need to convet the dtype of array then we can perform the opertions on it."
   ]
  },
  {
   "cell_type": "code",
   "execution_count": null,
   "id": "424023c5",
   "metadata": {},
   "outputs": [],
   "source": [
    "# diffrent ways of creating of array:\n",
    "1. np.array()\n",
    "2. np.arange()\n",
    "3. np.eye()\n",
    "4. np.ones()\n",
    "5. np.zero's()\n",
    "6. np.linspace()"
   ]
  },
  {
   "cell_type": "markdown",
   "id": "72ef0156",
   "metadata": {},
   "source": [
    "# np.linspace"
   ]
  },
  {
   "cell_type": "code",
   "execution_count": null,
   "id": "c3676ba6",
   "metadata": {},
   "outputs": [],
   "source": [
    "# Linspace get the array of linear space\n",
    "# by default generate 50 values\n",
    "# endpoint = True then stop also inclusive\n",
    "# we want sinwave or coswave that time we need linear spacing\n",
    "#retstep get spacing value"
   ]
  },
  {
   "cell_type": "code",
   "execution_count": 83,
   "id": "be64cb0e",
   "metadata": {},
   "outputs": [
    {
     "data": {
      "text/plain": [
       "array([ 1.        ,  1.18367347,  1.36734694,  1.55102041,  1.73469388,\n",
       "        1.91836735,  2.10204082,  2.28571429,  2.46938776,  2.65306122,\n",
       "        2.83673469,  3.02040816,  3.20408163,  3.3877551 ,  3.57142857,\n",
       "        3.75510204,  3.93877551,  4.12244898,  4.30612245,  4.48979592,\n",
       "        4.67346939,  4.85714286,  5.04081633,  5.2244898 ,  5.40816327,\n",
       "        5.59183673,  5.7755102 ,  5.95918367,  6.14285714,  6.32653061,\n",
       "        6.51020408,  6.69387755,  6.87755102,  7.06122449,  7.24489796,\n",
       "        7.42857143,  7.6122449 ,  7.79591837,  7.97959184,  8.16326531,\n",
       "        8.34693878,  8.53061224,  8.71428571,  8.89795918,  9.08163265,\n",
       "        9.26530612,  9.44897959,  9.63265306,  9.81632653, 10.        ])"
      ]
     },
     "execution_count": 83,
     "metadata": {},
     "output_type": "execute_result"
    }
   ],
   "source": [
    "# 1 to 10 between 50 number with linear spacing\n",
    "np.linspace(1, 10) "
   ]
  },
  {
   "cell_type": "code",
   "execution_count": 100,
   "id": "bceb560a",
   "metadata": {},
   "outputs": [
    {
     "data": {
      "text/plain": [
       "(array([ 1.,  2.,  3.,  4.,  5.,  6.,  7.,  8.,  9., 10., 11., 12., 13.,\n",
       "        14., 15., 16., 17., 18., 19., 20., 21., 22., 23., 24., 25., 26.,\n",
       "        27., 28., 29., 30., 31., 32., 33., 34., 35., 36., 37., 38., 39.,\n",
       "        40., 41., 42., 43., 44., 45., 46., 47., 48., 49., 50.]),\n",
       " 1.0)"
      ]
     },
     "execution_count": 100,
     "metadata": {},
     "output_type": "execute_result"
    }
   ],
   "source": [
    "# how to check the spacing\n",
    "# retstep is 1.0\n",
    "np.linspace(1, 50, retstep= True)"
   ]
  },
  {
   "cell_type": "code",
   "execution_count": 88,
   "id": "24981fa3",
   "metadata": {},
   "outputs": [
    {
     "data": {
      "text/plain": [
       "array([-6., -5., -4., -3., -2., -1.,  0.,  1.,  2.,  3.,  4.,  5.,  6.])"
      ]
     },
     "execution_count": 88,
     "metadata": {},
     "output_type": "execute_result"
    }
   ],
   "source": [
    "# -6, -5, -4, -3, -2, -1, 0, 1, 2, 3, 4, 5, 6\n",
    "np.linspace(-6, 6, num=13)"
   ]
  },
  {
   "cell_type": "markdown",
   "id": "94f45bfb",
   "metadata": {},
   "source": [
    "# np.full()"
   ]
  },
  {
   "cell_type": "code",
   "execution_count": 115,
   "id": "829f339d",
   "metadata": {},
   "outputs": [
    {
     "data": {
      "text/plain": [
       "array([[[10, 10, 10, 10],\n",
       "        [10, 10, 10, 10],\n",
       "        [10, 10, 10, 10],\n",
       "        [10, 10, 10, 10]],\n",
       "\n",
       "       [[10, 10, 10, 10],\n",
       "        [10, 10, 10, 10],\n",
       "        [10, 10, 10, 10],\n",
       "        [10, 10, 10, 10]]])"
      ]
     },
     "execution_count": 115,
     "metadata": {},
     "output_type": "execute_result"
    }
   ],
   "source": [
    "#Return a new array of given shape and type, filled with `fill_value`\n",
    "#np.full(shape, fill_value, dtype=None, order='C')\n",
    "# if we want to shape as input then pass the value in () \n",
    "np.full((4,4), 10)"
   ]
  },
  {
   "cell_type": "code",
   "execution_count": 113,
   "id": "852f1025",
   "metadata": {},
   "outputs": [
    {
     "data": {
      "text/plain": [
       "array([[10., 10., 10., 10.],\n",
       "       [10., 10., 10., 10.],\n",
       "       [10., 10., 10., 10.],\n",
       "       [10., 10., 10., 10.]], dtype=float16)"
      ]
     },
     "execution_count": 113,
     "metadata": {},
     "output_type": "execute_result"
    }
   ],
   "source": [
    "# we can change the dtype\n",
    "np.full((4,4), 10, dtype=\"f2\")"
   ]
  },
  {
   "cell_type": "code",
   "execution_count": 116,
   "id": "a952a5e7",
   "metadata": {},
   "outputs": [
    {
     "data": {
      "text/plain": [
       "array([[[12, 12, 12, 12],\n",
       "        [12, 12, 12, 12],\n",
       "        [12, 12, 12, 12],\n",
       "        [12, 12, 12, 12]],\n",
       "\n",
       "       [[12, 12, 12, 12],\n",
       "        [12, 12, 12, 12],\n",
       "        [12, 12, 12, 12],\n",
       "        [12, 12, 12, 12]]])"
      ]
     },
     "execution_count": 116,
     "metadata": {},
     "output_type": "execute_result"
    }
   ],
   "source": [
    "# create 3D array\n",
    "np.full((2, 4, 4), 12)"
   ]
  },
  {
   "cell_type": "markdown",
   "id": "823b975c",
   "metadata": {},
   "source": [
    "# Random()"
   ]
  },
  {
   "cell_type": "code",
   "execution_count": 126,
   "id": "9d11bd1e",
   "metadata": {},
   "outputs": [
    {
     "data": {
      "text/plain": [
       "array([[[0.57567451, 0.08625078, 0.85828311, 0.56392266],\n",
       "        [0.49280269, 0.91674133, 0.44875322, 0.92334475],\n",
       "        [0.45389397, 0.79137723, 0.30123964, 0.92317488],\n",
       "        [0.3969171 , 0.99741611, 0.76104367, 0.68970476]],\n",
       "\n",
       "       [[0.83153418, 0.80072792, 0.66719021, 0.61597689],\n",
       "        [0.99862484, 0.3282204 , 0.96864335, 0.90686761],\n",
       "        [0.28513514, 0.19933938, 0.15228986, 0.11872349],\n",
       "        [0.00473552, 0.36471776, 0.78431214, 0.654832  ]]])"
      ]
     },
     "execution_count": 126,
     "metadata": {},
     "output_type": "execute_result"
    }
   ],
   "source": [
    "# #Random values in a given shape.\n",
    "# random will create random float values, it will need shape or one values/positional arguments\n",
    "np.random.random((2, 4, 4))"
   ]
  },
  {
   "cell_type": "code",
   "execution_count": 121,
   "id": "22e3e8e3",
   "metadata": {},
   "outputs": [
    {
     "data": {
      "text/plain": [
       "array([[0.93400804, 0.40153338, 0.13185493, 0.17206732],\n",
       "       [0.44565528, 0.87644697, 0.95189854, 0.66802199],\n",
       "       [0.82451869, 0.5153763 , 0.14779473, 0.3141534 ],\n",
       "       [0.85110549, 0.20520953, 0.97147208, 0.42523344]])"
      ]
     },
     "execution_count": 121,
     "metadata": {},
     "output_type": "execute_result"
    }
   ],
   "source": [
    "# its need only shape\n",
    "# Random values in a given shape.\n",
    "np.random.rand(4,4)"
   ]
  },
  {
   "cell_type": "code",
   "execution_count": 123,
   "id": "a22a29ff",
   "metadata": {},
   "outputs": [
    {
     "data": {
      "text/plain": [
       "array([[10.30541467, 10.60202275, 10.99072005, 10.64733169],\n",
       "       [10.92126607, 10.39477844, 10.19341757, 10.12021573],\n",
       "       [10.47367321, 10.64861492, 10.57225619, 10.39930643],\n",
       "       [10.59144177, 10.04413136, 10.90552666, 10.5561096 ]])"
      ]
     },
     "execution_count": 123,
     "metadata": {},
     "output_type": "execute_result"
    }
   ],
   "source": [
    "# we can performs here as arithmatic operations\n",
    "np.random.rand(4,4)+10"
   ]
  },
  {
   "cell_type": "code",
   "execution_count": 124,
   "id": "5e729af2",
   "metadata": {},
   "outputs": [
    {
     "data": {
      "text/plain": [
       "array([[91.60736681, 36.49379396, 67.59880701, 33.2518316 ],\n",
       "       [93.46901011,  3.41046278, 49.5864495 , 99.25505128],\n",
       "       [65.23046881, 37.8237267 , 58.58057029, 46.22845077],\n",
       "       [90.5178324 , 41.63665177, 46.6317698 , 47.56452753]])"
      ]
     },
     "execution_count": 124,
     "metadata": {},
     "output_type": "execute_result"
    }
   ],
   "source": [
    "# multiplication\n",
    "np.random.rand(4,4)*100"
   ]
  },
  {
   "cell_type": "code",
   "execution_count": 127,
   "id": "0e5c4ed1",
   "metadata": {},
   "outputs": [
    {
     "data": {
      "text/plain": [
       "array([[-11.5466675 , -11.15317846, -11.09475232, -11.25750794],\n",
       "       [-11.69077283, -11.52405141, -11.4205598 , -11.66242484],\n",
       "       [-11.61759799, -11.16199133, -11.71847405, -11.02836897],\n",
       "       [-11.94832698, -11.86717124, -11.03803712, -11.6341095 ]])"
      ]
     },
     "execution_count": 127,
     "metadata": {},
     "output_type": "execute_result"
    }
   ],
   "source": [
    "# subtraction\n",
    "np.random.rand(4,4)-12"
   ]
  },
  {
   "cell_type": "code",
   "execution_count": 130,
   "id": "6c4ab4af",
   "metadata": {},
   "outputs": [
    {
     "data": {
      "text/plain": [
       "array([[0.20182827, 0.34366192, 0.49368291, 0.46215664],\n",
       "       [0.40292834, 0.29247117, 0.43146211, 0.11270724],\n",
       "       [0.42889338, 0.28764663, 0.39501565, 0.25526664],\n",
       "       [0.07752386, 0.26065089, 0.15545377, 0.27629454]])"
      ]
     },
     "execution_count": 130,
     "metadata": {},
     "output_type": "execute_result"
    }
   ],
   "source": [
    "# devision or flor division\n",
    "np.random.rand(4,4)/2"
   ]
  },
  {
   "cell_type": "markdown",
   "id": "050b336e",
   "metadata": {},
   "source": [
    "# Random.random.randint()"
   ]
  },
  {
   "cell_type": "code",
   "execution_count": null,
   "id": "7fa1e4ea",
   "metadata": {},
   "outputs": [],
   "source": [
    "# randint(low, high=None, size=None, dtype=int)\n",
    "# Return random integers from `low` (inclusive) to `high` (exclusive).\n",
    "# return the random intergers number."
   ]
  },
  {
   "cell_type": "code",
   "execution_count": 137,
   "id": "0a2d587f",
   "metadata": {},
   "outputs": [
    {
     "data": {
      "text/plain": [
       "array([ 7,  3,  1,  5,  1, 10,  4,  8, 10,  4], dtype=int64)"
      ]
     },
     "execution_count": 137,
     "metadata": {},
     "output_type": "execute_result"
    }
   ],
   "source": [
    "np.random.randint(1, 11, size= 10)"
   ]
  },
  {
   "cell_type": "code",
   "execution_count": 138,
   "id": "1e79c60c",
   "metadata": {},
   "outputs": [
    {
     "ename": "TypeError",
     "evalue": "Unsupported dtype dtype('float16') for randint",
     "output_type": "error",
     "traceback": [
      "\u001b[1;31m---------------------------------------------------------------------------\u001b[0m",
      "\u001b[1;31mTypeError\u001b[0m                                 Traceback (most recent call last)",
      "\u001b[1;32m~\\AppData\\Local\\Temp/ipykernel_46404/458984629.py\u001b[0m in \u001b[0;36m<module>\u001b[1;34m\u001b[0m\n\u001b[0;32m      1\u001b[0m \u001b[1;31m# randint is datatype is integer we can't perform type casting here\u001b[0m\u001b[1;33m\u001b[0m\u001b[1;33m\u001b[0m\u001b[1;33m\u001b[0m\u001b[0m\n\u001b[0;32m      2\u001b[0m \u001b[1;31m# only change int64 to int32\u001b[0m\u001b[1;33m\u001b[0m\u001b[1;33m\u001b[0m\u001b[1;33m\u001b[0m\u001b[0m\n\u001b[1;32m----> 3\u001b[1;33m \u001b[0mnp\u001b[0m\u001b[1;33m.\u001b[0m\u001b[0mrandom\u001b[0m\u001b[1;33m.\u001b[0m\u001b[0mrandint\u001b[0m\u001b[1;33m(\u001b[0m\u001b[1;36m1\u001b[0m\u001b[1;33m,\u001b[0m \u001b[1;36m11\u001b[0m\u001b[1;33m,\u001b[0m \u001b[0msize\u001b[0m\u001b[1;33m=\u001b[0m \u001b[1;36m10\u001b[0m\u001b[1;33m,\u001b[0m \u001b[0mdtype\u001b[0m\u001b[1;33m=\u001b[0m\u001b[1;34m\"float16\"\u001b[0m\u001b[1;33m)\u001b[0m\u001b[1;33m\u001b[0m\u001b[1;33m\u001b[0m\u001b[0m\n\u001b[0m",
      "\u001b[1;32mmtrand.pyx\u001b[0m in \u001b[0;36mnumpy.random.mtrand.RandomState.randint\u001b[1;34m()\u001b[0m\n",
      "\u001b[1;31mTypeError\u001b[0m: Unsupported dtype dtype('float16') for randint"
     ]
    }
   ],
   "source": [
    "# randint is datatype is integer we can't perform type casting here, see the below example\n",
    "np.random.randint(1, 11, size= 10, dtype=\"float16\")"
   ]
  },
  {
   "cell_type": "code",
   "execution_count": 139,
   "id": "0dfea95a",
   "metadata": {},
   "outputs": [
    {
     "data": {
      "text/plain": [
       "array([ 7, 10,  7,  9,  9,  7,  7,  3,  1,  4])"
      ]
     },
     "execution_count": 139,
     "metadata": {},
     "output_type": "execute_result"
    }
   ],
   "source": [
    "# only change int64 to int32\n",
    "np.random.randint(1, 11, size= 10, dtype=\"int32\")"
   ]
  },
  {
   "cell_type": "code",
   "execution_count": 140,
   "id": "dde17a90",
   "metadata": {},
   "outputs": [
    {
     "data": {
      "text/plain": [
       "array([3, 9, 1, 5, 5, 9, 5, 1, 8, 5], dtype=int16)"
      ]
     },
     "execution_count": 140,
     "metadata": {},
     "output_type": "execute_result"
    }
   ],
   "source": [
    "# only change int32 to int16\n",
    "np.random.randint(1, 11, size= 10, dtype=\"int16\")"
   ]
  },
  {
   "cell_type": "code",
   "execution_count": 147,
   "id": "b58df789",
   "metadata": {},
   "outputs": [
    {
     "data": {
      "text/plain": [
       "array([9, 1, 1, 3, 1, 7, 4, 5, 9, 1, 9, 1])"
      ]
     },
     "execution_count": 147,
     "metadata": {},
     "output_type": "execute_result"
    }
   ],
   "source": [
    "# we see arithmatic operation in random\n",
    "# they get only refelction of output\n",
    "# how to inplace of the changes\n",
    "x = np.random.randint(1, 11, 12)\n",
    "x"
   ]
  },
  {
   "cell_type": "code",
   "execution_count": 148,
   "id": "69a1238c",
   "metadata": {},
   "outputs": [],
   "source": [
    "# here they dont get the ouput bcause, the changes will be inplace(result store in x)\n",
    "x += 10"
   ]
  },
  {
   "cell_type": "code",
   "execution_count": 149,
   "id": "1d6dc776",
   "metadata": {},
   "outputs": [
    {
     "data": {
      "text/plain": [
       "array([19, 11, 11, 13, 11, 17, 14, 15, 19, 11, 19, 11])"
      ]
     },
     "execution_count": 149,
     "metadata": {},
     "output_type": "execute_result"
    }
   ],
   "source": [
    "x"
   ]
  },
  {
   "cell_type": "markdown",
   "id": "6695e6bb",
   "metadata": {},
   "source": [
    "#  I want to create 4x4 array which will contain all True values"
   ]
  },
  {
   "cell_type": "code",
   "execution_count": 150,
   "id": "d9024cb0",
   "metadata": {},
   "outputs": [
    {
     "data": {
      "text/plain": [
       "array([[ True,  True,  True,  True],\n",
       "       [ True,  True,  True,  True],\n",
       "       [ True,  True,  True,  True],\n",
       "       [ True,  True,  True,  True]])"
      ]
     },
     "execution_count": 150,
     "metadata": {},
     "output_type": "execute_result"
    }
   ],
   "source": [
    "np.ones((4,4), dtype=\"bool\")"
   ]
  },
  {
   "cell_type": "markdown",
   "id": "80fca727",
   "metadata": {},
   "source": [
    "# I want to create 4x4 array which will contain all False values"
   ]
  },
  {
   "cell_type": "code",
   "execution_count": 151,
   "id": "dd3f11bc",
   "metadata": {},
   "outputs": [
    {
     "data": {
      "text/plain": [
       "array([[False, False, False, False],\n",
       "       [False, False, False, False],\n",
       "       [False, False, False, False],\n",
       "       [False, False, False, False]])"
      ]
     },
     "execution_count": 151,
     "metadata": {},
     "output_type": "execute_result"
    }
   ],
   "source": [
    "np.zeros((4,4), dtype=\"bool\")"
   ]
  },
  {
   "cell_type": "markdown",
   "id": "2ed422c3",
   "metadata": {},
   "source": [
    "# I want to create 5x5 array in which Diagonal values should be True & non diagonal values should be False"
   ]
  },
  {
   "cell_type": "code",
   "execution_count": 156,
   "id": "ec974738",
   "metadata": {},
   "outputs": [
    {
     "data": {
      "text/plain": [
       "array([[ True, False, False, False, False],\n",
       "       [False,  True, False, False, False],\n",
       "       [False, False,  True, False, False],\n",
       "       [False, False, False,  True, False],\n",
       "       [False, False, False, False,  True]])"
      ]
     },
     "execution_count": 156,
     "metadata": {},
     "output_type": "execute_result"
    }
   ],
   "source": [
    "np.eye(5, dtype=\"bool\")"
   ]
  },
  {
   "cell_type": "code",
   "execution_count": 157,
   "id": "59c4b7bd",
   "metadata": {},
   "outputs": [
    {
     "data": {
      "text/plain": [
       "array([[ True, False, False, False, False],\n",
       "       [False,  True, False, False, False],\n",
       "       [False, False,  True, False, False],\n",
       "       [False, False, False,  True, False],\n",
       "       [False, False, False, False,  True]])"
      ]
     },
     "execution_count": 157,
     "metadata": {},
     "output_type": "execute_result"
    }
   ],
   "source": [
    "np.identity(5, dtype=\"bool\")"
   ]
  },
  {
   "cell_type": "code",
   "execution_count": null,
   "id": "0b4e9fda",
   "metadata": {},
   "outputs": [],
   "source": []
  }
 ],
 "metadata": {
  "kernelspec": {
   "display_name": "Python 3 (ipykernel)",
   "language": "python",
   "name": "python3"
  },
  "language_info": {
   "codemirror_mode": {
    "name": "ipython",
    "version": 3
   },
   "file_extension": ".py",
   "mimetype": "text/x-python",
   "name": "python",
   "nbconvert_exporter": "python",
   "pygments_lexer": "ipython3",
   "version": "3.7.7"
  }
 },
 "nbformat": 4,
 "nbformat_minor": 5
}
